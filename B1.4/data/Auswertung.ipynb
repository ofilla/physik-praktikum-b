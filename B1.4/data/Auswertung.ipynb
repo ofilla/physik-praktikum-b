{
 "cells": [
  {
   "cell_type": "markdown",
   "id": "8556b4c7-0f92-4bda-83fc-15b3e8ae100e",
   "metadata": {},
   "source": [
    "## Photostrom"
   ]
  },
  {
   "cell_type": "code",
   "execution_count": null,
   "id": "882ff42f-7b8a-4e48-a986-9f6d0a052883",
   "metadata": {},
   "outputs": [],
   "source": [
    "using LaTeXStrings\n",
    "using LinearAlgebra\n",
    "using LsqFit\n",
    "using Measurements\n",
    "using Plots\n",
    "using Statistics"
   ]
  },
  {
   "cell_type": "code",
   "execution_count": null,
   "id": "c6ecbae9-789a-4347-b07c-da78210ab25e",
   "metadata": {},
   "outputs": [],
   "source": [
    "#gemessene Spannungen\n",
    "U_blau = [1.486, 1.067, 0.807, 0.655, 0.440, 0.338]\n",
    "U_grün = [0.536, 0.357, 0.265, 0.190, 0.126, 0.090];"
   ]
  },
  {
   "cell_type": "code",
   "execution_count": null,
   "id": "34cb97fd-3949-4865-825d-1e907000c4f1",
   "metadata": {},
   "outputs": [],
   "source": [
    "#Relative Intensität\n",
    "T_blau = [68., 48., 33., 28., 20., 14.]\n",
    "T_grün = [67., 46., 31., 23., 16., 11,]\n",
    "ΔT = 1;"
   ]
  },
  {
   "cell_type": "code",
   "execution_count": null,
   "id": "dc822de0-46f8-4711-af28-e5426af4d417",
   "metadata": {},
   "outputs": [],
   "source": [
    "# berechne Photostrom\n",
    "R=10000 \n",
    "I_blau = U_blau ./ R\n",
    "I_grün = U_grün ./ R;"
   ]
  },
  {
   "cell_type": "code",
   "execution_count": null,
   "id": "89d9068a-22c5-4c10-9ccb-f5a66baaec90",
   "metadata": {},
   "outputs": [],
   "source": [
    "ΔI = 0.005 / R"
   ]
  },
  {
   "cell_type": "code",
   "execution_count": null,
   "id": "15e72f74-d831-4253-ad0b-cfe801e33e00",
   "metadata": {},
   "outputs": [],
   "source": [
    "I_Blau = measurement.(I_blau, ΔI)\n",
    "I_Grün = measurement.(I_grün, ΔI)\n",
    "T_Blau = measurement.(T_blau, ΔT)\n",
    "T_Grün = measurement.(T_grün, ΔT);"
   ]
  },
  {
   "cell_type": "code",
   "execution_count": null,
   "id": "6afca58e-846d-41f0-9c83-68a3e5afc1ea",
   "metadata": {},
   "outputs": [],
   "source": [
    "# Funktion zur Berechnung der linearen Regression\n",
    "function fit(x, y)\n",
    "    X = [ones(length(x)) x]\n",
    "    coef = X \\ y\n",
    "    return coef[1], coef[2]\n",
    "end"
   ]
  },
  {
   "cell_type": "code",
   "execution_count": null,
   "id": "ef9d6d85-0e7f-4b05-95bb-a2986b3bc795",
   "metadata": {},
   "outputs": [],
   "source": [
    "rounded_string(value) = rpad(round(value, digits=3), length(string(round(value))) +2 , \"0\")"
   ]
  },
  {
   "cell_type": "code",
   "execution_count": null,
   "id": "bed95022-215c-4a27-b691-079fa8ab5798",
   "metadata": {},
   "outputs": [],
   "source": [
    "# Berechnung der linearen Regression\n",
    "a, b = fit(T_blau, I_blau .* 1e3)\n",
    "\n",
    "@show a\n",
    "@show b\n",
    "\n",
    "# Erstellen der Fitlinie\n",
    "f(x) = a .+ b .* x\n",
    "a_rounded = rounded_string(a*1e3)\n",
    "b_rounded = rounded_string(b*1e3)\n",
    "\n",
    "blau = scatter(T_blau, I_blau.*1e3, xerr=1, yerr=ΔI .* 10^3,\n",
    "    label=L\"\\mathrm{Messwerte}\", xlabel=L\"\\mathrm{Transmissionsgrad}\\ [\\%]\", ylabel=L\"\\mathrm{Photostrom}\\ [\\mathrm{mA}]\")\n",
    "plot!(0:70, f, label=\"\\$$b_rounded\\\\cdot10^{-3}\\\\cdot x + $a_rounded\\\\cdot10^{-3}\\$\", linewidth = 1)"
   ]
  },
  {
   "cell_type": "markdown",
   "id": "22ba8376-3377-4c55-9611-c84fa9df0aec",
   "metadata": {},
   "source": [
    "savefig(blau, \"../../media/B1.4/Photostrom_blau.pdf\");"
   ]
  },
  {
   "cell_type": "code",
   "execution_count": null,
   "id": "252d3d16-ca1c-4606-a01f-c35dc80aa799",
   "metadata": {},
   "outputs": [],
   "source": [
    "# Berechnung der linearen Regression\n",
    "a, b = fit(T_grün, I_grün .* 1e3)\n",
    "\n",
    "@show a\n",
    "@show b\n",
    "\n",
    "# Erstellen der Fitlinie\n",
    "f(x) = a .+ b .* x\n",
    "a_rounded = rounded_string(a*1e3)\n",
    "b_rounded = rounded_string(b*1e3)\n",
    "\n",
    "gruen = scatter(T_grün, I_grün.*1e3, xerr=1, yerr=ΔI .* 10^3,\n",
    "    label=L\"\\mathrm{Messwerte}\", xlabel=L\"\\mathrm{Transmissionsgrad}\\ [\\%]\", ylabel=L\"\\mathrm{Photostrom}\\ [\\mathrm{mA}]\")\n",
    "plot!(1:70, f, label=\"\\$$b_rounded\\\\cdot10^{-3}\\\\cdot x + $a_rounded\\\\cdot10^{-3}\\$\", linewidth = 1)"
   ]
  },
  {
   "cell_type": "markdown",
   "id": "dc53d9c6-902a-4fad-aed6-1f0e0ed17fb8",
   "metadata": {},
   "source": [
    "savefig(gruen, \"../../media/B1.4/Photostrom_gruen.pdf\");"
   ]
  }
 ],
 "metadata": {
  "kernelspec": {
   "display_name": "Julia 1.9.2",
   "language": "julia",
   "name": "julia-1.9"
  },
  "language_info": {
   "file_extension": ".jl",
   "mimetype": "application/julia",
   "name": "julia",
   "version": "1.9.2"
  }
 },
 "nbformat": 4,
 "nbformat_minor": 5
}
