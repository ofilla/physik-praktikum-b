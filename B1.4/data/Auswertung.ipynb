{
 "cells": [
  {
   "cell_type": "markdown",
   "id": "852c16af-0629-481c-95c6-9a8e256cff2e",
   "metadata": {},
   "source": [
    "# Auswertung B1.4"
   ]
  },
  {
   "cell_type": "code",
   "execution_count": null,
   "id": "4df9ea11-3b3c-4d3f-89c0-0dfcfc13794b",
   "metadata": {},
   "outputs": [],
   "source": [
    "using LaTeXStrings\n",
    "using LinearAlgebra\n",
    "using LsqFit\n",
    "using Measurements\n",
    "using Plots\n",
    "using Statistics"
   ]
  },
  {
   "cell_type": "markdown",
   "id": "c2e2d8e4-4165-4996-9c82-5cd21b5329e3",
   "metadata": {
    "jp-MarkdownHeadingCollapsed": true
   },
   "source": [
    "## Literaturwerte"
   ]
  },
  {
   "cell_type": "code",
   "execution_count": null,
   "id": "82cf37b1-5a47-4e01-bd10-d319e8f44361",
   "metadata": {},
   "outputs": [],
   "source": [
    "# aus Gerthsen Physik\n",
    "h = 6.6260688e-34 # Js\n",
    "Δh = 0.0000005e-34 # Js\n",
    "e = 1.60217646e-19 # C\n",
    "Δe = 0.00000006e-19 # C\n",
    "h_durch_e = h/e # Js/C\n",
    "\n",
    "Δh_durch_e = sqrt( (Δh/e)^2 + (h*Δe/e^2)^2 )\n",
    "\n",
    "# aus Wikipedia (exakte Werte):\n",
    "h = 6.62607015e-34 # Js\n",
    "e = 1.602176634e-19 # C\n",
    "h_durch_e_exakt = h/e; # Js/C"
   ]
  },
  {
   "cell_type": "markdown",
   "id": "4eb7755d-0f0f-41dc-b153-cb19615b74d8",
   "metadata": {
    "jp-MarkdownHeadingCollapsed": true
   },
   "source": [
    "## 1. Bestimmung von h/e"
   ]
  },
  {
   "cell_type": "markdown",
   "id": "51b751f9-d9a8-40ca-8246-490fdc302b70",
   "metadata": {},
   "source": [
    "### Gegenspannungsmethode"
   ]
  },
  {
   "cell_type": "code",
   "execution_count": null,
   "id": "3bc93aab-97e0-4805-a49a-47a6a264a326",
   "metadata": {},
   "outputs": [],
   "source": [
    "gegenSpannungen = [1.769, 1.434, 1.232, 0.705, 0.645] # V\n",
    "ΔgegenSpannungen = 0.003 # V\n",
    "wellenlaengen = [366, 405, 436, 546, 578] # nm\n",
    "Δwellenlaengen = 7 # nm\n",
    "c_nm = 2.99792458e17 # nm/s\n",
    "frequenzen = c_nm ./ wellenlaengen # Hz\n",
    "Δfrequenzen = c_nm * Δwellenlaengen ./ (wellenlaengen.^2) # Hz (nach Gaußscher Fehlerfortpflanzung)\n",
    "scatter(frequenzen, gegenSpannungen, yerr = ΔgegenSpannungen, legend=:bottomright, xaxis=[0,10^15], yaxis=[-2,2])\n",
    "xlabel!(L\"Frequenz \\enspace [Hz]\")\n",
    "ylabel!(L\"Spannung \\enspace [V]\")"
   ]
  },
  {
   "cell_type": "code",
   "execution_count": null,
   "id": "f815f1e7-3a8e-464c-92d7-d894b317c1fb",
   "metadata": {},
   "outputs": [],
   "source": [
    "frequenzen ./ 1e14"
   ]
  },
  {
   "cell_type": "code",
   "execution_count": null,
   "id": "68abe51f-51f8-4d34-880c-ec1db142038c",
   "metadata": {},
   "outputs": [],
   "source": [
    "Δfrequenzen ./ 1e14"
   ]
  },
  {
   "cell_type": "markdown",
   "id": "080dbdc7-8d38-4d0c-99e6-1ef82895f8de",
   "metadata": {},
   "source": [
    "#### Gerade fitten\n",
    "Steigung abschätzen"
   ]
  },
  {
   "cell_type": "code",
   "execution_count": null,
   "id": "aa3bd89e-bf1d-467d-abfb-4bd9bf623805",
   "metadata": {},
   "outputs": [],
   "source": [
    "Δx = frequenzen[1]-frequenzen[length(frequenzen)]"
   ]
  },
  {
   "cell_type": "code",
   "execution_count": null,
   "id": "d304f34c-5375-4541-a144-054ddd24dea7",
   "metadata": {},
   "outputs": [],
   "source": [
    "Δy = gegenSpannungen[1]-gegenSpannungen[length(gegenSpannungen)]"
   ]
  },
  {
   "cell_type": "code",
   "execution_count": null,
   "id": "85b3c186-fb5f-490f-95d0-86335cef698b",
   "metadata": {},
   "outputs": [],
   "source": [
    "Δy / Δx"
   ]
  },
  {
   "cell_type": "markdown",
   "id": "1fa6ed3a-7afd-46b4-9124-5b41deeb21e7",
   "metadata": {},
   "source": [
    "Fit"
   ]
  },
  {
   "cell_type": "code",
   "execution_count": null,
   "id": "ce0fa0a8-71e8-4320-8de5-37ec6d1320ab",
   "metadata": {},
   "outputs": [],
   "source": [
    "modelFunction(x, a) = a[1]*x .+ a[2] # a = fit-parameter\n",
    "a0 = [10e-15, -1.5]\n",
    "fit = curve_fit(modelFunction, frequenzen, gegenSpannungen, a0);"
   ]
  },
  {
   "cell_type": "code",
   "execution_count": null,
   "id": "22d03b94-ccba-4313-ba9c-fabab37b9a78",
   "metadata": {},
   "outputs": [],
   "source": [
    "a_gegen_fit = fit.param[1]"
   ]
  },
  {
   "cell_type": "code",
   "execution_count": null,
   "id": "33415167-f319-4ccb-bf68-f6f25516bf3c",
   "metadata": {},
   "outputs": [],
   "source": [
    "b_gegen_fit = fit.param[2]"
   ]
  },
  {
   "cell_type": "code",
   "execution_count": null,
   "id": "2db5360a-8709-4124-9015-7f931523870b",
   "metadata": {},
   "outputs": [],
   "source": [
    "Δa_gegen_fit = sqrt(estimate_covar(fit)[1,1])"
   ]
  },
  {
   "cell_type": "code",
   "execution_count": null,
   "id": "1027e7bb-78ac-4999-91e8-b30679b45e8a",
   "metadata": {},
   "outputs": [],
   "source": [
    "Δb_gegen_fit = sqrt(estimate_covar(fit)[2,2])"
   ]
  },
  {
   "cell_type": "markdown",
   "id": "3c4b7c03-368a-42ad-bd91-ef1ea75c6c45",
   "metadata": {},
   "source": [
    "Plot"
   ]
  },
  {
   "cell_type": "code",
   "execution_count": null,
   "id": "9920b7e1-4ea6-468a-8ac5-a73e52087995",
   "metadata": {},
   "outputs": [],
   "source": [
    "fitGeradeGegen(x) = a_gegen_fit * 1e14 * x + b_gegen_fit\n",
    "gegenPlot = scatter(frequenzen ./ 1e14, gegenSpannungen, yerr=ΔgegenSpannungen, legend=:bottomright,\n",
    "    xlims=[0,10], ylims=[-2,2], xwiden=false, ywiden=true, label=L\"\\mathrm{Messwerte}\")\n",
    "xlabel!(L\"\\mathrm{Frequenz} \\enspace [10^{14} \\mathrm{\\, Hz}]\")\n",
    "ylabel!(L\"\\mathrm{Spannung} \\enspace [V]\")\n",
    "plot!(fitGeradeGegen, label=L\"\\mathrm{Fitgerade}\")"
   ]
  },
  {
   "cell_type": "markdown",
   "id": "09f057de-c1ae-4e47-bed7-6f67015e061a",
   "metadata": {},
   "source": [
    "savefig(gegenPlot, \"../../media/B1.4/gegenPlot.pdf\");"
   ]
  },
  {
   "cell_type": "markdown",
   "id": "d91ef85c-b9cf-4711-a3e4-4bea03a142c3",
   "metadata": {},
   "source": [
    "### Direkte Methode"
   ]
  },
  {
   "cell_type": "code",
   "execution_count": null,
   "id": "38a26d17-79f8-4960-a3b3-32dd2ba2f66e",
   "metadata": {},
   "outputs": [],
   "source": [
    "direkteSpannungen = [1.770, 1.434, 1.232, 0.696, 0.635] # V\n",
    "ΔdirekteSpannungen = ΔgegenSpannungen\n",
    "scatter(frequenzen, direkteSpannungen, yerr = ΔdirekteSpannungen, legend=:bottomright, xaxis=[0,10^15], yaxis=[-2,2])\n",
    "xlabel!(L\"Frequenz \\enspace [Hz]\")\n",
    "ylabel!(L\"Spannung \\enspace [V]\")"
   ]
  },
  {
   "cell_type": "markdown",
   "id": "bae6d707-0f19-4780-9d60-9a430a5f8d65",
   "metadata": {},
   "source": [
    "Fit"
   ]
  },
  {
   "cell_type": "code",
   "execution_count": null,
   "id": "b61e5940-d8cb-47d0-9326-da6a3fe20447",
   "metadata": {},
   "outputs": [],
   "source": [
    "modelFunction(x, a) = a[1]*x .+ a[2] # a = fit-parameter\n",
    "a0 = [10e-15, -1.5]\n",
    "fit = curve_fit(modelFunction, frequenzen, direkteSpannungen, a0);"
   ]
  },
  {
   "cell_type": "code",
   "execution_count": null,
   "id": "7aa77d14-c874-40d1-ac51-1e316f4785c5",
   "metadata": {},
   "outputs": [],
   "source": [
    "a_direkt_fit = fit.param[1]"
   ]
  },
  {
   "cell_type": "code",
   "execution_count": null,
   "id": "af2f0bcd-e539-4a23-b315-a4ac50dd1336",
   "metadata": {},
   "outputs": [],
   "source": [
    "b_direkt_fit = fit.param[2]"
   ]
  },
  {
   "cell_type": "code",
   "execution_count": null,
   "id": "9b99c758-5f6b-4cef-9068-f1d461a0cff4",
   "metadata": {},
   "outputs": [],
   "source": [
    "Δa_direkt_fit = sqrt(estimate_covar(fit)[1,1])"
   ]
  },
  {
   "cell_type": "code",
   "execution_count": null,
   "id": "82a84088-c8a2-44b1-9802-b557444361f4",
   "metadata": {},
   "outputs": [],
   "source": [
    "Δb_direkt_fit = sqrt(estimate_covar(fit)[2,2])"
   ]
  },
  {
   "cell_type": "markdown",
   "id": "05c013af-3ef9-4621-bb80-29444d59c6ac",
   "metadata": {},
   "source": [
    "Plot"
   ]
  },
  {
   "cell_type": "code",
   "execution_count": null,
   "id": "4120a1b5-d53d-46d8-a6ea-8ae713698756",
   "metadata": {},
   "outputs": [],
   "source": [
    "fitGeradeDirekt(x) = a_direkt_fit * 1e14 * x + b_direkt_fit\n",
    "direktPlot = scatter(frequenzen ./ 1e14, direkteSpannungen, yerr=ΔdirekteSpannungen, legend=:bottomright,\n",
    "    xlims=[0,10], ylims=[-2,2], xwiden=false, ywiden=true, label=L\"\\mathrm{Messwerte}\")\n",
    "xlabel!(L\"\\mathrm{Frequenz} \\enspace [10^{14} \\mathrm{\\, Hz}]\")\n",
    "ylabel!(L\"\\mathrm{Spannung} \\enspace [V]\")\n",
    "plot!(fitGeradeDirekt, label=L\"\\mathrm{Fitgerade}\")"
   ]
  },
  {
   "cell_type": "markdown",
   "id": "91218276-e421-4a08-9d42-635da2a0d4ef",
   "metadata": {},
   "source": [
    "savefig(direktPlot, \"../../media/B1.4/direktPlot.pdf\");"
   ]
  },
  {
   "cell_type": "markdown",
   "id": "5be44dc9-98d9-4466-8ea3-7ee872b7165f",
   "metadata": {},
   "source": [
    "### Vergleich"
   ]
  },
  {
   "cell_type": "code",
   "execution_count": null,
   "id": "ca0287c5-1b36-4ebf-b6f0-5f8db660a690",
   "metadata": {},
   "outputs": [],
   "source": [
    "[[a_gegen_fit, a_direkt_fit], [b_gegen_fit, b_direkt_fit]]"
   ]
  },
  {
   "cell_type": "code",
   "execution_count": null,
   "id": "7303fc48-8372-4363-a7dd-ae689ee900df",
   "metadata": {},
   "outputs": [],
   "source": [
    "scatter(frequenzen, gegenSpannungen, yerr=ΔgegenSpannungen, legend=:bottomright,\n",
    "    xlims=[floor(0),1.05*10^15], ylims=[-2,2], xwiden=false, ywiden=true, label=L\"Messwerte \\enspace (gegen)\")\n",
    "scatter!(frequenzen, direkteSpannungen, yerr=ΔdirekteSpannungen, label=L\"Messwerte \\enspace (direkt)\")\n",
    "xlabel!(L\"Frequenz \\enspace [Hz]\")\n",
    "ylabel!(L\"Spannung \\enspace [V]\")\n",
    "plot!(fitGeradeGegen, label=L\"Fitgerade \\enspace (gegen)\")\n",
    "plot!(fitGeradeDirekt, label=L\"Fitgerade \\enspace (direkt)\")"
   ]
  },
  {
   "cell_type": "code",
   "execution_count": null,
   "id": "ac257996-0280-4867-9f4f-ccd7fed336fd",
   "metadata": {},
   "outputs": [],
   "source": [
    "plot(gegenPlot, direktPlot, layout=(1,2))"
   ]
  },
  {
   "cell_type": "markdown",
   "id": "d8f8b61b-5a62-4344-9ff5-7b4afae2514e",
   "metadata": {
    "jp-MarkdownHeadingCollapsed": true
   },
   "source": [
    "## 2. Berechnung von $W_A$"
   ]
  },
  {
   "cell_type": "code",
   "execution_count": null,
   "id": "491b9114-8d36-4805-890c-d3a458b206a4",
   "metadata": {},
   "outputs": [],
   "source": [
    "W_A_gegen = abs(b_gegen_fit * e) # J"
   ]
  },
  {
   "cell_type": "code",
   "execution_count": null,
   "id": "071687f6-4da9-4e94-b44b-5c9906de8301",
   "metadata": {},
   "outputs": [],
   "source": [
    "W_A_gegen_ev = W_A_gegen / 1.602176634e-19 # eV"
   ]
  },
  {
   "cell_type": "code",
   "execution_count": null,
   "id": "cef90dcd-1519-43f6-aff2-4c8615b9dc9d",
   "metadata": {},
   "outputs": [],
   "source": [
    "ΔW_A_gegen = Δb_gegen_fit * e # J"
   ]
  },
  {
   "cell_type": "code",
   "execution_count": null,
   "id": "7599b755-9cb7-4397-ab54-90dfc1d59fa4",
   "metadata": {},
   "outputs": [],
   "source": [
    "ΔW_A_gegen_ev = ΔW_A_gegen / 1.602176634e-19 # eV"
   ]
  },
  {
   "cell_type": "code",
   "execution_count": null,
   "id": "a095d566-ad77-4e23-b6a8-ca373862e669",
   "metadata": {},
   "outputs": [],
   "source": [
    "W_A_direkt = abs(b_direkt_fit * e) # J"
   ]
  },
  {
   "cell_type": "code",
   "execution_count": null,
   "id": "b8c109cf-4bf7-4b66-9345-6bb19dd1c62f",
   "metadata": {},
   "outputs": [],
   "source": [
    "W_A_direkt_ev = W_A_direkt / 1.602176634e-19 # eV"
   ]
  },
  {
   "cell_type": "code",
   "execution_count": null,
   "id": "5536e7a9-4ba5-47d8-a592-fa74c65db59a",
   "metadata": {},
   "outputs": [],
   "source": [
    "ΔW_A_direkt = Δb_direkt_fit * e # J"
   ]
  },
  {
   "cell_type": "code",
   "execution_count": null,
   "id": "0cf1bbf6-49ee-4640-b0a5-8c3fb0e49205",
   "metadata": {},
   "outputs": [],
   "source": [
    "ΔW_A_direkt_ev = ΔW_A_direkt / 1.602176634e-19 # eV"
   ]
  },
  {
   "cell_type": "markdown",
   "id": "8556b4c7-0f92-4bda-83fc-15b3e8ae100e",
   "metadata": {
    "jp-MarkdownHeadingCollapsed": true
   },
   "source": [
    "## 3. Photostrom"
   ]
  },
  {
   "cell_type": "code",
   "execution_count": null,
   "id": "c6ecbae9-789a-4347-b07c-da78210ab25e",
   "metadata": {},
   "outputs": [],
   "source": [
    "# gemessene Spannungen\n",
    "U_blau = [1.486, 1.067, 0.807, 0.655, 0.440, 0.338, 1.777]\n",
    "U_grün = [0.536, 0.357, 0.265, 0.190, 0.126, 0.090, 0.608];"
   ]
  },
  {
   "cell_type": "code",
   "execution_count": null,
   "id": "34cb97fd-3949-4865-825d-1e907000c4f1",
   "metadata": {},
   "outputs": [],
   "source": [
    "# Relative Intensität\n",
    "T_blau = [68., 48., 33., 28., 20., 14., 100]\n",
    "T_grün = [67., 46., 31., 23., 16., 11, 100]\n",
    "ΔT = 1;"
   ]
  },
  {
   "cell_type": "code",
   "execution_count": null,
   "id": "dc822de0-46f8-4711-af28-e5426af4d417",
   "metadata": {},
   "outputs": [],
   "source": [
    "# berechne Photostrom\n",
    "R=10000 \n",
    "I_blau = U_blau ./ (R * 10^4)\n",
    "I_grün = U_grün ./ (R * 10^4);"
   ]
  },
  {
   "cell_type": "code",
   "execution_count": null,
   "id": "89d9068a-22c5-4c10-9ccb-f5a66baaec90",
   "metadata": {},
   "outputs": [],
   "source": [
    "ΔI = 0.005 / (R*10^4)"
   ]
  },
  {
   "cell_type": "code",
   "execution_count": null,
   "id": "15e72f74-d831-4253-ad0b-cfe801e33e00",
   "metadata": {},
   "outputs": [],
   "source": [
    "I_Blau = measurement.(I_blau, ΔI)\n",
    "I_Grün = measurement.(I_grün, ΔI)\n",
    "T_Blau = measurement.(T_blau, ΔT)\n",
    "T_Grün = measurement.(T_grün, ΔT);"
   ]
  },
  {
   "cell_type": "code",
   "execution_count": null,
   "id": "6afca58e-846d-41f0-9c83-68a3e5afc1ea",
   "metadata": {},
   "outputs": [],
   "source": [
    "# Funktion zur Berechnung der linearen Regression\n",
    "function fit_func(x, y)\n",
    "    X = [ones(length(x)) x]\n",
    "    coef = X \\ y\n",
    "    return coef[1], coef[2]\n",
    "end"
   ]
  },
  {
   "cell_type": "code",
   "execution_count": null,
   "id": "ef9d6d85-0e7f-4b05-95bb-a2986b3bc795",
   "metadata": {},
   "outputs": [],
   "source": [
    "rounded_string(value) = rpad(round(value, digits=3), length(string(round(value))) +2 , \"0\")"
   ]
  },
  {
   "cell_type": "code",
   "execution_count": null,
   "id": "bed95022-215c-4a27-b691-079fa8ab5798",
   "metadata": {},
   "outputs": [],
   "source": [
    "# Berechnung der linearen Regression\n",
    "a, b = fit_func(T_blau[1:6], I_blau[1:6] .* 1e9)\n",
    "\n",
    "@show a\n",
    "@show b\n",
    "\n",
    "# Erstellen der Fitlinie\n",
    "f(x) = a .+ b .* x\n",
    "a_rounded = rounded_string(a)\n",
    "b_rounded = rounded_string(b)\n",
    "\n",
    "blau = scatter(T_blau, I_blau.*1e9, xerr=1, yerr=ΔI .* 10^9,\n",
    "    label=L\"\\mathrm{Messwerte}\", xlabel=L\"\\mathrm{Transmissionsgrad}\\ [\\%]\", ylabel=L\"\\mathrm{Photostrom}\\ [\\mathrm{nA}]\")\n",
    "plot!(0:100, f, label=\"\\$$b_rounded\\\\cdot 10^{-9}\\\\cdot x + $a_rounded\\\\cdot 10^{-9}\\$\", linewidth = 1)"
   ]
  },
  {
   "cell_type": "markdown",
   "id": "812131e4-0afc-4b0a-84fb-3e927056bc1b",
   "metadata": {},
   "source": [
    "savefig(blau, \"../../media/B1.4/Photostrom_blau.pdf\");"
   ]
  },
  {
   "cell_type": "code",
   "execution_count": null,
   "id": "252d3d16-ca1c-4606-a01f-c35dc80aa799",
   "metadata": {},
   "outputs": [],
   "source": [
    "# Berechnung der linearen Regression\n",
    "a, b = fit_func(T_grün[1:6], I_grün[1:6] .* 1e9)\n",
    "\n",
    "@show a\n",
    "@show b\n",
    "\n",
    "# Erstellen der Fitlinie\n",
    "f(x) = a .+ b .* x\n",
    "a_rounded = rounded_string(a)\n",
    "b_rounded = rounded_string(b)\n",
    "\n",
    "gruen = scatter(T_grün, I_grün.*1e9, xerr=1, yerr=ΔI .* 10^9,\n",
    "    label=L\"\\mathrm{Messwerte}\", xlabel=L\"\\mathrm{Transmissionsgrad}\\ [\\%]\", ylabel=L\"\\mathrm{Photostrom}\\ [\\mathrm{nA}]\")\n",
    "plot!(0:100, f, label=\"\\$$b_rounded\\\\cdot 10^{-9}\\\\cdot x + $a_rounded\\\\cdot 10^{-9}\\$\", linewidth = 1)"
   ]
  },
  {
   "cell_type": "markdown",
   "id": "af89caac-baaa-459d-ab8a-f81dfe452f78",
   "metadata": {},
   "source": [
    "savefig(gruen, \"../../media/B1.4/Photostrom_gruen.pdf\");"
   ]
  },
  {
   "cell_type": "markdown",
   "id": "cd1425a2-6f2b-4135-b0e6-ec19a1520cd2",
   "metadata": {
    "jp-MarkdownHeadingCollapsed": true
   },
   "source": [
    "## 4. Untersuchung von LEDs mit der Photozelle"
   ]
  },
  {
   "cell_type": "code",
   "execution_count": null,
   "id": "116e732e-6684-4080-a295-709df33077a7",
   "metadata": {},
   "outputs": [],
   "source": [
    "ledStoppspannungen = [1.047, 0.891, 0.807] # V\n",
    "ledNamen = [\"blue\", \"verde\", \"true green\"]\n",
    "ΔledStoppspannungen = ΔgegenSpannungen\n",
    "\n",
    "ledFrequenzen = (ledStoppspannungen .- b_direkt_fit) ./ a_direkt_fit # Hz\n",
    "ledWellenlängen = c_nm ./ ledFrequenzen # nm"
   ]
  },
  {
   "cell_type": "code",
   "execution_count": null,
   "id": "ad627dc8-9039-4c2b-a9c8-52193bf1d36f",
   "metadata": {},
   "outputs": [],
   "source": [
    "# Test ob Funktion in LaTeX auch stimmt:\n",
    "ledWellenlängen2 = a_direkt_fit * c_nm ./ (ledStoppspannungen .- b_direkt_fit)"
   ]
  },
  {
   "cell_type": "code",
   "execution_count": null,
   "id": "bfa0e77c-6e89-42e9-b350-9a0730aa1541",
   "metadata": {},
   "outputs": [],
   "source": [
    "ΔledWellenlängen = sqrt.( (c_nm * Δa_direkt_fit ./ (ledStoppspannungen .- b_direkt_fit)).^2 +\n",
    "    (a_direkt_fit * c_nm * ΔledStoppspannungen ./ (ledStoppspannungen .- b_direkt_fit).^2).^2 +\n",
    "    (a_direkt_fit * c_nm * Δb_direkt_fit ./ (ledStoppspannungen .- b_direkt_fit).^2).^2 ) # nm"
   ]
  },
  {
   "cell_type": "markdown",
   "id": "6ca29188",
   "metadata": {},
   "source": [
    "### 3.1 Bestimmung der Mittelwerte der LED-Verteilungen"
   ]
  },
  {
   "cell_type": "code",
   "execution_count": null,
   "id": "03cb099e",
   "metadata": {},
   "outputs": [],
   "source": [
    "σ = 30 / (2 * sqrt(2 * log(2))) # nm"
   ]
  },
  {
   "cell_type": "code",
   "execution_count": null,
   "id": "57adb92a",
   "metadata": {},
   "outputs": [],
   "source": [
    "Δσ = 0.5 / (2 * sqrt(2 * log(2))) # nm"
   ]
  },
  {
   "cell_type": "code",
   "execution_count": null,
   "id": "f5d9ca88",
   "metadata": {},
   "outputs": [],
   "source": [
    "μ(λ) = λ + 3 * σ\n",
    "Δμ(Δλ) = sqrt( (Δλ)^2 + (3*Δσ)^2 )"
   ]
  },
  {
   "cell_type": "code",
   "execution_count": null,
   "id": "dffb6ae1",
   "metadata": {},
   "outputs": [],
   "source": [
    "[μ(472), μ(504), μ(524)]"
   ]
  },
  {
   "cell_type": "code",
   "execution_count": null,
   "id": "753527db",
   "metadata": {},
   "outputs": [],
   "source": [
    "[Δμ(20), Δμ(22), Δμ(24)]"
   ]
  }
 ],
 "metadata": {
  "kernelspec": {
   "display_name": "Julia 1.9.2",
   "language": "julia",
   "name": "julia-1.9"
  },
  "language_info": {
   "file_extension": ".jl",
   "mimetype": "application/julia",
   "name": "julia",
   "version": "1.9.2"
  }
 },
 "nbformat": 4,
 "nbformat_minor": 5
}
