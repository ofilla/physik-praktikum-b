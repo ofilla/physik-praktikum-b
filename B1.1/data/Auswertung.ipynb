{
 "cells": [
  {
   "cell_type": "code",
   "execution_count": null,
   "id": "1a12c697",
   "metadata": {},
   "outputs": [],
   "source": [
    "using CSV\n",
    "using DataFrames\n",
    "using Plots\n",
    "using Statistics\n",
    "using LaTeXStrings\n",
    "using LinearAlgebra\n",
    "using LsqFit"
   ]
  },
  {
   "cell_type": "markdown",
   "id": "dbf277cf",
   "metadata": {
    "jp-MarkdownHeadingCollapsed": true
   },
   "source": [
    "### Auswertungsteil 2: IR-Absorption und -Emission von verschiedenen Materialien"
   ]
  },
  {
   "cell_type": "code",
   "execution_count": null,
   "id": "4b0965c4-3c49-4c41-83d3-7c00cde6a8b7",
   "metadata": {},
   "outputs": [],
   "source": [
    "alu = CSV.read(\"IR-Transmission/Alufolie.csv\", DataFrame)\n",
    "orangeneFolie = CSV.read(\"IR-Transmission/Orangene_Folie.csv\", DataFrame)\n",
    "taschentuch = CSV.read(\"IR-Transmission/Papiertaschentuch_1_Lage_doppelt.csv\", DataFrame)\n",
    "peFolie = CSV.read(\"IR-Transmission/PE-Folie.csv\", DataFrame)\n",
    "schreibpapier = CSV.read(\"IR-Transmission/Schreibpapier.csv\", DataFrame)\n",
    "violetteFolie = CSV.read(\"IR-Transmission/Violett-Blaue_Folie.csv\", DataFrame);"
   ]
  },
  {
   "cell_type": "code",
   "execution_count": null,
   "id": "cc72d3c2",
   "metadata": {},
   "outputs": [],
   "source": [
    "materialien = plot(peFolie.seconds, peFolie.beleuchtungsstaerke, label=L\"\\mathrm{PE-Folie}\")\n",
    "plot!(violetteFolie.seconds, violetteFolie.beleuchtungsstaerke, label=L\"\\mathrm{Violette \\enspace Folie}\")\n",
    "plot!(orangeneFolie.seconds, orangeneFolie.beleuchtungsstaerke, label=L\"\\mathrm{orangene \\enspace Folie}\")\n",
    "plot!(taschentuch.seconds, taschentuch.beleuchtungsstaerke, label=L\"\\mathrm{Taschentuch}\")\n",
    "plot!(schreibpapier.seconds, schreibpapier.beleuchtungsstaerke, label=L\"\\mathrm{Schreibpapier}\")\n",
    "#plot!(alu.seconds, alu.beleuchtungsstaerke, label=L\"\\mathrm{Aluminium}\")\n",
    "xlabel!(L\"\\mathrm{Zeit} \\enspace [\\mathrm{s}]\")\n",
    "ylabel!(L\"\\mathrm{Beleuchtungsstärke} \\enspace \\left[\\mathrm{\\frac{W}{m^2}}\\right]\")"
   ]
  },
  {
   "cell_type": "code",
   "execution_count": null,
   "id": "4c369a32-34e9-457c-8471-277db7806d92",
   "metadata": {},
   "outputs": [],
   "source": [
    "# savefig(materialien, \"../../media/B1.1/materialien.pdf\");"
   ]
  },
  {
   "cell_type": "markdown",
   "id": "eb416df3",
   "metadata": {},
   "source": [
    "Mittelwert + Fehler Funktion:"
   ]
  },
  {
   "cell_type": "code",
   "execution_count": null,
   "id": "d6b47448",
   "metadata": {},
   "outputs": [],
   "source": [
    "function mittelwert(a)\n",
    "    # Hilfsvariablen:\n",
    "    n = length(a)\n",
    "    \n",
    "    # Mittelwert:\n",
    "    mittel = 0\n",
    "    for i in 1:n\n",
    "        mittel += a[i]\n",
    "    end\n",
    "    mittel = mittel/n\n",
    "    \n",
    "    # Standardabweichung des Mittewerts:\n",
    "    err = 0\n",
    "    for i in 1:n\n",
    "        err += (a[i] - mittel)^2\n",
    "    end\n",
    "    err = sqrt( (1 / (n * (n-1)) ) *  err)\n",
    "    \n",
    "    return mittel, err\n",
    "end"
   ]
  },
  {
   "cell_type": "code",
   "execution_count": null,
   "id": "c950cd41",
   "metadata": {},
   "outputs": [],
   "source": [
    "I_min_all = [minimum(peFolie[:, :beleuchtungsstaerke]),minimum(violetteFolie[:, :beleuchtungsstaerke]),minimum(orangeneFolie[:, :beleuchtungsstaerke]),minimum(taschentuch[:, :beleuchtungsstaerke]), minimum(schreibpapier[:, :beleuchtungsstaerke])]\n",
    "I_min_error_all = [0.000005, 0.000005, 0.000005, 0.000005, 0.000005]\n",
    "I_mean_all = [mittelwert(peFolie[601:end, :beleuchtungsstaerke])[1], mittelwert(violetteFolie[901:end, :beleuchtungsstaerke])[1], mittelwert(orangeneFolie[901:end, :beleuchtungsstaerke])[1], mittelwert(taschentuch[751:end, :beleuchtungsstaerke])[1], mittelwert(schreibpapier[901:end, :beleuchtungsstaerke])[1]]\n",
    "I_mean_error_all = [mittelwert(peFolie[601:end, :beleuchtungsstaerke])[2], mittelwert(violetteFolie[901:end, :beleuchtungsstaerke])[2], mittelwert(orangeneFolie[901:end, :beleuchtungsstaerke])[2], mittelwert(taschentuch[751:end, :beleuchtungsstaerke])[2], mittelwert(schreibpapier[901:end, :beleuchtungsstaerke])[2]]\n",
    "I_0_all = [mittelwert(peFolie[1:301, :beleuchtungsstaerke])[1], mittelwert(violetteFolie[301:601, :beleuchtungsstaerke])[1], mittelwert(orangeneFolie[301:601, :beleuchtungsstaerke])[1], mittelwert(taschentuch[1:301, :beleuchtungsstaerke])[1], mittelwert(schreibpapier[201:501, :beleuchtungsstaerke])[1]]\n",
    "I_0_error_all = [mittelwert(peFolie[1:301, :beleuchtungsstaerke])[2], mittelwert(violetteFolie[301:601, :beleuchtungsstaerke])[2], mittelwert(orangeneFolie[301:601, :beleuchtungsstaerke])[2], mittelwert(taschentuch[1:301, :beleuchtungsstaerke])[2], mittelwert(schreibpapier[201:501, :beleuchtungsstaerke])[2]]\n",
    "T_mean_all = [I_mean_all[1]/I_0_all[1], I_mean_all[2]/I_0_all[2], I_mean_all[3]/I_0_all[3], I_mean_all[4]/I_0_all[4], I_mean_all[5]/I_0_all[5]]\n",
    "T_min_all = [I_min_all[1]/I_0_all[1], I_min_all[2]/I_0_all[2], I_min_all[3]/I_0_all[3], I_min_all[4]/I_0_all[4], I_min_all[5]/I_0_all[5]]\n",
    "\n",
    "# Fehler per Gaußscher Fehlerfortpflanzung:\n",
    "T_mean_error(i) = sqrt( (I_mean_error_all[i] / I_0_all[i])^2 + (I_mean_all[i] * I_0_error_all[i] / I_0_all[i]^2)^2 )\n",
    "T_min_error(i) = sqrt( (I_min_error_all[i] / I_0_all[i])^2 + (I_min_all[i] * I_0_error_all[i] / I_0_all[i]^2)^2 )\n",
    "\n",
    "T_mean_error_all = [T_mean_error(1), T_mean_error(2), T_mean_error(3), T_mean_error(4), T_mean_error(5)]\n",
    "T_min_error_all = [T_min_error(1), T_min_error(2), T_min_error(3), T_min_error(4), T_min_error(5)]\n",
    ";"
   ]
  },
  {
   "cell_type": "code",
   "execution_count": null,
   "id": "78ea9ad5",
   "metadata": {},
   "outputs": [],
   "source": [
    "df = DataFrame(\n",
    "    Material=[\"PE\", \"Violett\", \"Orange\", \"Taschentuch\", \"Schreibpapier\"],\n",
    "    I_min = I_min_all,\n",
    "    I_mean = I_mean_all,\n",
    "    I_mean_error = I_mean_error_all,\n",
    "    I_0 = I_0_all,\n",
    "    I_0_error = I_0_error_all,\n",
    "    T_mean = T_mean_all,\n",
    "    T_mean_err = T_mean_error_all,\n",
    "    T_min = T_min_all,\n",
    "    T_min_err = T_min_error_all\n",
    "    )\n",
    "show(df, allcols = true)"
   ]
  },
  {
   "cell_type": "markdown",
   "id": "2ed25d96",
   "metadata": {
    "jp-MarkdownHeadingCollapsed": true
   },
   "source": [
    "### Auswertungsteil 3: IR-Absorption in $CO_2$ bei bekannter Konzentration"
   ]
  },
  {
   "cell_type": "code",
   "execution_count": null,
   "id": "52a996e4",
   "metadata": {},
   "outputs": [],
   "source": [
    "ml1 = CSV.read(\"Konzentrationskalibrierung/1ml.csv\", DataFrame)\n",
    "ml2 = CSV.read(\"Konzentrationskalibrierung/2ml.csv\", DataFrame)\n",
    "ml3 = CSV.read(\"Konzentrationskalibrierung/3ml.csv\", DataFrame)\n",
    "ml4 = CSV.read(\"Konzentrationskalibrierung/4ml.csv\", DataFrame)\n",
    "ml5 = CSV.read(\"Konzentrationskalibrierung/5ml.csv\", DataFrame)\n",
    "ml10 = CSV.read(\"Konzentrationskalibrierung/10ml.csv\", DataFrame)\n",
    "ml15 = CSV.read(\"Konzentrationskalibrierung/15ml.csv\", DataFrame)\n",
    "ml20 = CSV.read(\"Konzentrationskalibrierung/20ml.csv\", DataFrame)\n",
    "ml30 = CSV.read(\"Konzentrationskalibrierung/30ml.csv\", DataFrame)\n",
    "ml45 = CSV.read(\"Konzentrationskalibrierung/45ml.csv\", DataFrame)\n",
    "ml60 = CSV.read(\"Konzentrationskalibrierung/60ml.csv\", DataFrame)\n",
    "mlsaettigung = CSV.read(\"Konzentrationskalibrierung/Saettigung_CO2.csv\", DataFrame)\n",
    ";"
   ]
  },
  {
   "cell_type": "code",
   "execution_count": null,
   "id": "a218b27d",
   "metadata": {},
   "outputs": [],
   "source": [
    "plot(mlsaettigung.seconds, mlsaettigung.temperature, label = L\"Temperatur\", legend=:bottomright)\n",
    "plot!(mlsaettigung.seconds, mlsaettigung.beleuchtungsstaerke.*50,\n",
    "    label = L\"Beleuchtungsstärke \\enspace (50-fach \\enspace verstärkt)\")\n",
    "xaxis!(L\"Zeit \\enspace [s]\")\n",
    "yaxis!(L\"Temperatur \\enspace [°C] \\enspace / \\enspace Beleuchtungsstärke \\enspace [W/m^2]\")"
   ]
  },
  {
   "cell_type": "code",
   "execution_count": null,
   "id": "1dc72790",
   "metadata": {},
   "outputs": [],
   "source": [
    "ml1SecondsCut = ml1[1301:end,:seconds] .-130\n",
    "plot(ml1SecondsCut, ml1.beleuchtungsstaerke[1301:end], label=L\"1 \\, ml\", legend=:bottomright)\n",
    "xlabel!(L\"Zeit \\enspace [s]\")\n",
    "ylabel!(L\"Beleuchtungsstärke \\enspace [W/m^2]\")"
   ]
  },
  {
   "cell_type": "code",
   "execution_count": null,
   "id": "e8cf203d-e5be-4eb0-8c25-700c066a3316",
   "metadata": {},
   "outputs": [],
   "source": [
    "data1 = plot(ml1SecondsCut.*0.3, ml1.beleuchtungsstaerke[1301:end], label = L\"1 \\, \\mathrm{ml}\\enspace\\mathrm{CO_2}\")\n",
    "plot!(ml2.seconds.*0.6, ml2.beleuchtungsstaerke, legend=:bottomright, label=L\"2 \\, \\mathrm{ml}\\enspace\\mathrm{CO_2}\")\n",
    "plot!(ml3.seconds, ml3.beleuchtungsstaerke, label=L\"3 \\, \\mathrm{ml}\\enspace\\mathrm{CO_2}\")\n",
    "plot!(ml4.seconds, ml4.beleuchtungsstaerke, label=L\"4 \\, \\mathrm{ml}\\enspace\\mathrm{CO_2}\")\n",
    "plot!(ml5.seconds, ml5.beleuchtungsstaerke, label=L\"5 \\, \\mathrm{ml}\\enspace\\mathrm{CO_2}\")\n",
    "plot!(ml10.seconds, ml10.beleuchtungsstaerke, label=L\"10 \\, \\mathrm{ml}\\enspace\\mathrm{CO_2}\")\n",
    "xlabel!(L\"\\mathrm{Zeit} \\enspace [\\mathrm{s}]\")\n",
    "ylabel!(L\"\\mathrm{Beleuchtungsstärke} \\enspace \\left[\\mathrm{\\frac{W}{m^2}}\\right]\")"
   ]
  },
  {
   "cell_type": "code",
   "execution_count": null,
   "id": "2f96c757-68f5-4568-b088-3145149bb4a8",
   "metadata": {},
   "outputs": [],
   "source": [
    "# savefig(data1, \"../../media/B1.1/Konzentrationskalibrierung_data_1.pdf\");"
   ]
  },
  {
   "cell_type": "code",
   "execution_count": null,
   "id": "622edafa-4183-4d73-b114-ead19a2282e1",
   "metadata": {},
   "outputs": [],
   "source": [
    "data2 = plot(ml10.seconds, ml10.beleuchtungsstaerke, label=L\"10 \\, \\mathrm{ml}\\enspace\\mathrm{CO_2}\")\n",
    "plot!(ml15.seconds, ml15.beleuchtungsstaerke, label=L\"15 \\, \\mathrm{ml}\\enspace\\mathrm{CO_2}\")\n",
    "plot!(ml20.seconds, ml20.beleuchtungsstaerke, label=L\"20 \\, \\mathrm{ml}\\enspace\\mathrm{CO_2}\")\n",
    "plot!(ml30.seconds, ml30.beleuchtungsstaerke, label=L\"30 \\, \\mathrm{ml}\\enspace\\mathrm{CO_2}\")\n",
    "plot!(ml45.seconds, ml45.beleuchtungsstaerke, label=L\"45 \\, \\mathrm{ml}\\enspace\\mathrm{CO_2}\")\n",
    "plot!(ml60.seconds, ml60.beleuchtungsstaerke, label=L\"60 \\, \\mathrm{ml}\\enspace\\mathrm{CO_2}\")\n",
    "plot!(mlsaettigung.seconds, mlsaettigung.beleuchtungsstaerke, label=L\"100\\,\\%\\enspace\\mathrm{CO_2}\")\n",
    "xlabel!(L\"\\mathrm{Zeit} \\enspace [\\mathrm{s}]\")\n",
    "ylabel!(L\"\\mathrm{Beleuchtungsstärke} \\enspace \\left[\\mathrm{\\frac{W}{m^2}}\\right]\")"
   ]
  },
  {
   "cell_type": "code",
   "execution_count": null,
   "id": "934f9675-6765-4501-8de5-7bef93e140ba",
   "metadata": {},
   "outputs": [],
   "source": [
    "# savefig(data2, \"../../media/B1.1/Konzentrationskalibrierung_data_2.pdf\");"
   ]
  },
  {
   "cell_type": "markdown",
   "id": "a7b5a236",
   "metadata": {},
   "source": [
    "Lambert-Beer-Gauß-Funktion:"
   ]
  },
  {
   "cell_type": "code",
   "execution_count": null,
   "id": "7a959589",
   "metadata": {},
   "outputs": [],
   "source": [
    "I_0 = 1 # ?\n",
    "px = 50 # = α_0 * x ?\n",
    "ν_0 = 0\n",
    "Δν = 1 # = σ ?\n",
    "C = 10 # (Testwert) 2. Parameter\n",
    "I(ν) = I_0 * exp(- px * exp(- 0.5 * ((ν - ν_0)/Δν)^2) * C) # 0.5 steht nicht im Text aber ist in Bild!!!"
   ]
  },
  {
   "cell_type": "code",
   "execution_count": null,
   "id": "cc1174f8",
   "metadata": {},
   "outputs": [],
   "source": [
    "C = 0.001\n",
    "plot(I, xaxis=[-5,5], yaxis=[0,1], legend=:bottomright, label=\"\\$ C = $C \\$\", title=\"mit 0.5 statt 1\")\n",
    "C = 0.005\n",
    "plot!(I, label=\"\\$ C = $C \\$\")\n",
    "C = 0.02\n",
    "plot!(I, label=\"\\$ C = $C \\$\")\n",
    "C = 0.05\n",
    "plot!(I, label=\"\\$ C = $C \\$\")\n",
    "C = 0.1\n",
    "plot!(I, label=\"\\$ C = $C \\$\")\n",
    "C = 0.5\n",
    "plot!(I, label=\"\\$ C = $C \\$\")\n",
    "C = 1\n",
    "plot!(I, label=\"\\$ C = $C \\$\")\n",
    "C = 0\n",
    "plot!(I, label=\"\\$ C = $C \\$\")\n",
    "xlabel!(L\"Frequenz \\enspace ν\")\n",
    "ylabel!(L\"Transmission\")"
   ]
  },
  {
   "cell_type": "markdown",
   "id": "56993220",
   "metadata": {},
   "source": [
    "Messwerte:"
   ]
  },
  {
   "cell_type": "code",
   "execution_count": null,
   "id": "7ca4c1d6",
   "metadata": {},
   "outputs": [],
   "source": [
    "volumenZelle = 15 * π * (3.93/2)^2 # cm^3 = ml\n",
    "volumenZelle_err = sqrt( (0.5 * π * (3.93/2)^2)^2 + (15 * π * 3.93/2 * 0.005)^2 )\n",
    "# Fehler des Zellvolumens = 0\n",
    "\n",
    "konzentrationen = [0, 1/volumenZelle, 2/volumenZelle, 3/volumenZelle, 4/volumenZelle, 5/volumenZelle, 10/volumenZelle,\n",
    "    15/volumenZelle, 20/volumenZelle, 30/volumenZelle, 45/volumenZelle, 60/volumenZelle, 1]\n",
    "# Fehler der C02 Mengen per Spritze: geschätzt auf 0.1 ml\n",
    "vol_co2_err = 0.1 # ml (geschätzt)\n",
    "konz_err_gauß(a) = sqrt( (vol_co2_err/volumenZelle)^2 + (a * volumenZelle_err / volumenZelle^2)^2 )\n",
    "konzentrationen_err = [0, konz_err_gauß(1), konz_err_gauß(2), konz_err_gauß(3), konz_err_gauß(4), konz_err_gauß(5),\n",
    "    konz_err_gauß(10), konz_err_gauß(15), konz_err_gauß(20), konz_err_gauß(30), konz_err_gauß(45),konz_err_gauß(60), 0]\n",
    "transmissionswerte = [1, 0.61891/0.91470, 0.54653/0.90009, 0.51851/0.88955, 0.49127/0.88510,\n",
    "    0.47169/0.88250, 0.42554/0.87689, 0.40244/0.86985, 0.38815/0.86675, 0.36510/0.86045, 0.34723/0.85468,\n",
    "    0.33312/0.84604, 0.28149/0.80104]\n",
    "# Fehler per Gaußscher Fehlerfortpflanzung mittels einzelner Fehler aus Mittelwertbildung von CASSY Lab:\n",
    "trans_err_gauß(a, b, Δa, Δb) = sqrt( (Δa / b)^2 + (a * Δb / b^2)^2 )\n",
    "transmissionswerte_err = [0, trans_err_gauß(0.61891, 0.91470, 0.00009, 0.00011),\n",
    "    trans_err_gauß(0.54653, 0.90009, 0.00012, 0.00019), trans_err_gauß(0.51851, 0.88955, 0.00016, 0.00013),\n",
    "    trans_err_gauß(0.49127, 0.88510, 0.00011, 0.00030), trans_err_gauß(0.47169, 0.88250, 0.00013, 0.00040),\n",
    "    trans_err_gauß(0.42554, 0.87689, 0.00007, 0.00012), trans_err_gauß(0.40244, 0.86985, 0.00012, 0.00013),\n",
    "    trans_err_gauß(0.38815, 0.86675, 0.00008, 0.00017), trans_err_gauß(0.36510, 0.86045, 0.00011, 0.00012),\n",
    "    trans_err_gauß(0.34723, 0.85468, 0.00010, 0.00016), trans_err_gauß(0.33312, 0.84604, 0.00008, 0.00014),\n",
    "    trans_err_gauß(0.28149, 0.80104, 0.00014, 0.00012)]\n",
    ";"
   ]
  },
  {
   "cell_type": "code",
   "execution_count": null,
   "id": "4b393b8c",
   "metadata": {},
   "outputs": [],
   "source": [
    "# Plot\n",
    "scatter(konzentrationen, transmissionswerte, xerr = konzentrationen_err, yerr = transmissionswerte_err)\n",
    "xlabel!(L\"Konzentration\")\n",
    "ylabel!(L\"Transmissionswert\")"
   ]
  },
  {
   "cell_type": "markdown",
   "id": "8f141a65",
   "metadata": {},
   "source": [
    "Integralannäherung:\n",
    "- Idee: Schrittweite * Summer über alle Funktionswerte\n",
    "- $\\nu_1$ = -10, $\\nu_2$ = 10"
   ]
  },
  {
   "cell_type": "code",
   "execution_count": null,
   "id": "cf505864",
   "metadata": {},
   "outputs": [],
   "source": [
    "function t_rel(px_given)\n",
    "    I_0 = 1 # ?\n",
    "    px = px_given\n",
    "    ν_0 = 0\n",
    "    Δν = 1 # = σ ?\n",
    "    C = 10 # (Testwert) 2. Parameter\n",
    "    I_t(ν) = I_0 * exp(- px * exp(- 1 * ((ν - ν_0)/Δν)^2) * C) # statt 1 ist 0.5 für die Form im Bild verwendet worden!\n",
    "    \n",
    "    ν_1 = -10\n",
    "    ν_2 = 10\n",
    "    schrittweite = 0.01\n",
    "\n",
    "    summen = Array{Float64}(undef, length(konzentrationen))\n",
    "    for i in 1:length(konzentrationen)\n",
    "        C = konzentrationen[i]\n",
    "        for j in ν_1:schrittweite:ν_2\n",
    "            summen[i] += I_t(j)\n",
    "        end\n",
    "    end\n",
    "    integrale = schrittweite .* summen\n",
    "\n",
    "    T_rel = (integrale .- integrale[length(konzentrationen)]) ./ (integrale[1] - integrale[length(konzentrationen)])\n",
    "    offset = transmissionswerte[length(konzentrationen)]\n",
    "    faktor = 1-offset\n",
    "    T_rel_skaliert = faktor .* T_rel .+ offset\n",
    "    # integrale[length(konzentrationen)] = T(100%)\n",
    "    # integrale[1] = T(0%)\n",
    "    return integrale, T_rel, T_rel_skaliert\n",
    "end"
   ]
  },
  {
   "cell_type": "markdown",
   "id": "8bfd8537",
   "metadata": {},
   "source": [
    "Plot beide zusammen:"
   ]
  },
  {
   "cell_type": "code",
   "execution_count": null,
   "id": "d194b8a1",
   "metadata": {},
   "outputs": [],
   "source": [
    "# Plot\n",
    "tkFit = scatter(konzentrationen.*100, transmissionswerte.*100, label=L\"\\mathrm{Messwerte}\", xaxis=[0,101],\n",
    "    xerr = konzentrationen_err.*100, yerr = transmissionswerte_err.*100)\n",
    "i = 1000\n",
    "plot!(konzentrationen.*100, t_rel(i)[3].*100, label=L\"\\mathrm{Fit} \\enspace \\mathrm{mit} \\enspace px = 10^3\", markeralpha=0.5)\n",
    "    #, markershape=:diamond)\n",
    "xlabel!(L\"\\mathrm{relative \\enspace Konzentration} \\enspace [\\%]\")\n",
    "ylabel!(L\"\\mathrm{relativer \\enspace Transmissionswert} \\enspace T \\enspace [\\%]\")"
   ]
  },
  {
   "cell_type": "code",
   "execution_count": null,
   "id": "20b5cc17-4086-4546-b564-9379ca512e1b",
   "metadata": {},
   "outputs": [],
   "source": [
    "# savefig(tkFit, \"../../media/B1.1/tkFit.pdf\");"
   ]
  },
  {
   "cell_type": "markdown",
   "id": "6c3ae8a4",
   "metadata": {},
   "source": [
    "Vergleich verschiedener Fitparameter px:"
   ]
  },
  {
   "cell_type": "code",
   "execution_count": null,
   "id": "156edeca",
   "metadata": {},
   "outputs": [],
   "source": [
    "i = 1000\n",
    "p1 = scatter(konzentrationen, transmissionswerte, label=\"Messwerte\", xaxis=[0,1], title = \"px = $i\")\n",
    "plot!(konzentrationen, t_rel(i)[3], label=\"px = $i, changed\", markershape=:diamond, markeralpha=0.5)\n",
    "\n",
    "i = 1500\n",
    "p2 = scatter(konzentrationen, transmissionswerte, label=\"Messwerte\", xaxis=[0,1], title = \"px = $i\")\n",
    "plot!(konzentrationen, t_rel(i)[3], label=\"px = $i, changed\", markershape=:diamond, markeralpha=0.5)\n",
    "\n",
    "i = 1000\n",
    "p3 = scatter(konzentrationen, transmissionswerte, label=\"Messwerte\", xaxis=[0,0.1], title = \"px = $i\")\n",
    "plot!(konzentrationen, t_rel(i)[3], label=\"px = $i, changed\", markershape=:diamond, markeralpha=0.5)\n",
    "\n",
    "i = 1500\n",
    "p4 = scatter(konzentrationen, transmissionswerte, label=\"Messwerte\", xaxis=[0,0.1], title = \"px = $i\")\n",
    "plot!(konzentrationen, t_rel(i)[3], label=\"px = $i, changed\", markershape=:diamond, markeralpha=0.5)\n",
    "\n",
    "plot(p1, p2, p3, p4, layout=(2,2), legend=false)"
   ]
  },
  {
   "cell_type": "markdown",
   "id": "5790e9cb",
   "metadata": {},
   "source": [
    "##### Minimale Konzentration mit Unsicherheit <= 10% (Frage 2):"
   ]
  },
  {
   "cell_type": "code",
   "execution_count": null,
   "id": "4238d411",
   "metadata": {},
   "outputs": [],
   "source": [
    "I_0 = [0.91470, 0.91470, 0.90009, 0.88955, 0.88510, 0.88250, 0.87689, 0.86985, 0.86675, 0.86045, 0.85468, 0.84604,\n",
    "    0.80104]\n",
    "ungenauigkeit = Array{Float64}(undef,length(I_0)-2)\n",
    "for i in 2:length(I_0)-1 # Start bei 2 weil der erste keine richtige messung war\n",
    "    ungenauigkeit[i-1] = mittelwert([I_0[i], I_0[i+1]])[2]\n",
    "end\n",
    "ΔI_therm = mittelwert(ungenauigkeit)[1]\n",
    "I_0_mittel = mittelwert(I_0)[1]\n",
    "T_min = 1 - 10 * ΔI_therm / I_0_mittel"
   ]
  },
  {
   "cell_type": "code",
   "execution_count": null,
   "id": "3892893c",
   "metadata": {},
   "outputs": [],
   "source": [
    "K_min = 350 # ppm\n",
    "K_min_err = 50 # ppm"
   ]
  },
  {
   "cell_type": "markdown",
   "id": "a27221f3",
   "metadata": {},
   "source": [
    "2. Versuch zum Fitten (Diesmal mit mehr Werten von C):"
   ]
  },
  {
   "cell_type": "code",
   "execution_count": null,
   "id": "8ef06601",
   "metadata": {},
   "outputs": [],
   "source": [
    "function t_rel_2(px_given)\n",
    "    I_0 = 1 # ?\n",
    "    px = px_given\n",
    "    ν_0 = 0\n",
    "    Δν = 1 # = σ ?\n",
    "    C = 10 # (Testwert) 2. Parameter\n",
    "    I_t(ν) = I_0 * exp(- px * exp(- 1 * ((ν - ν_0)/Δν)^2) * C) # statt 1 ist 0.5 für die Form im Bild verwendet worden!\n",
    "    \n",
    "    ν_1 = -10\n",
    "    ν_2 = 10\n",
    "    schrittweite = 0.01\n",
    "    C_schrittweite = 0.0001 # um zusätzliche \"Messwerte\" zu erzeugen\n",
    "    C_schrittweite_2 = 0.02\n",
    "    firstEnd = 0.02\n",
    "    C_werte = Array{Float64}(undef, Int(firstEnd/C_schrittweite + (1-firstEnd)/C_schrittweite_2) + 1)\n",
    "    \n",
    "    summen = Array{Float64}(undef, Int(firstEnd/C_schrittweite + (1-firstEnd)/C_schrittweite_2) + 1)\n",
    "    summenIndex = 0\n",
    "    for c in 0:C_schrittweite:(firstEnd-C_schrittweite)\n",
    "        C = c\n",
    "        summenIndex += 1\n",
    "        C_werte[summenIndex] = c\n",
    "        for j in ν_1:schrittweite:ν_2\n",
    "            summen[summenIndex] += I_t(j)\n",
    "        end\n",
    "    end\n",
    "    for c_2 in firstEnd:C_schrittweite_2:1\n",
    "        C = c_2\n",
    "        summenIndex += 1\n",
    "        C_werte[summenIndex] = c_2\n",
    "        for j in ν_1:schrittweite:ν_2\n",
    "            summen[summenIndex] += I_t(j)\n",
    "        end\n",
    "    end\n",
    "    integrale = schrittweite .* summen\n",
    "\n",
    "    T_rel = (integrale .- integrale[length(integrale)]) ./ (integrale[1] - integrale[length(integrale)])\n",
    "    offset = transmissionswerte[length(konzentrationen)]\n",
    "    faktor = 1-offset\n",
    "    T_rel_skaliert = faktor .* T_rel .+ offset\n",
    "    # integrale[length(konzentrationen)] = T(100%)\n",
    "    # integrale[1] = T(0%)\n",
    "    return integrale, T_rel, T_rel_skaliert, summen, C_werte\n",
    "end"
   ]
  },
  {
   "cell_type": "code",
   "execution_count": null,
   "id": "09a66f5b",
   "metadata": {},
   "outputs": [],
   "source": [
    "# Plot\n",
    " #scatter(konzentrationen, transmissionswerte, label=L\"Messwerte\", xaxis=[0,0.001], yaxis=[0.8,1],\n",
    " #               xerr = konzentrationen_err, yerr = transmissionswerte_err)\n",
    "i = 1000\n",
    "t1, t2, y_array, t3, x_array = t_rel_2(i)\n",
    "fitZoom = plot([1], label=\"\") # Nur um Farben wie oben anzupassen\n",
    "plot!(x_array.*10^6, y_array.*100, label=L\"\\mathrm{Fit} \\enspace \\mathrm{mit} \\enspace px = 10^3\",\n",
    "    markeralpha=0.5, markershape=:diamond, xaxis=[0,1000], yaxis=[80,100])\n",
    "xlabel!(L\"\\mathrm{Konzentration} \\enspace [\\mathrm{ppm}]\")\n",
    "ylabel!(L\"\\mathrm{Transmissionswert} \\enspace T \\enspace [\\%]\")\n",
    "\n",
    "# Literaturwert:\n",
    "lit = 419 # ppm\n",
    "\n",
    "# Anliegende Punkte:\n",
    "x1 = 300\n",
    "x1_index = 4\n",
    "x2 = 400\n",
    "x2_index = 5\n",
    "\n",
    "# Gerade zwischen erstem und zweitem anliegendem Punkt:\n",
    "a = (y_array[x2_index] - y_array[x1_index]) / (x2 - x1)\n",
    "litHeight = (lit - x1) * a + y_array[x1_index]\n",
    "T_minLength = x1 + (T_min - y_array[x1_index]) / a\n",
    "K_minHeight = (K_min - x1) * a + y_array[x1_index]\n",
    "\n",
    "# Resultierende Plots:\n",
    "plot!([0,2T_minLength], [T_min, T_min].*100, label=L\"T_\\mathrm{min} \\approx 94\\,\\%\") # 2*Länge aus ästetischen Gründen\n",
    "plot!([300, 300], [0, y_array[4]].*100, linestyle = :dash, label=L\"300 \\,\\mathrm{ppm}\")\n",
    "plot!([400, 400], [0, y_array[5]].*100, linestyle = :dash, label=L\"400 \\,\\mathrm{ppm}\")\n",
    "plot!([lit, lit], [0,litHeight].*100, label=L\"\\mathrm{Literaturwert} \\enspace K_\\mathrm{Luft} = 419 \\,\\mathrm{ppm}\")\n",
    "plot!([K_min, K_min], [0,K_minHeight].*100, label=L\"K_\\mathrm{min} = 350 \\,\\mathrm{ppm}\")"
   ]
  },
  {
   "cell_type": "code",
   "execution_count": null,
   "id": "eadf3fae-e1f9-4cbd-8fd5-9755c5f59f91",
   "metadata": {},
   "outputs": [],
   "source": [
    "# savefig(fitZoom, \"../../media/B1.1/fitZoomPpm.pdf\");"
   ]
  },
  {
   "cell_type": "markdown",
   "id": "19713ab6",
   "metadata": {
    "jp-MarkdownHeadingCollapsed": true
   },
   "source": [
    "### Auswertungsteil 4: Messung der CO2-Konzentration in der Raumluft durch IR-Absorption"
   ]
  },
  {
   "cell_type": "code",
   "execution_count": null,
   "id": "fbb07559",
   "metadata": {},
   "outputs": [],
   "source": [
    "saettigungLuft = CSV.read(\"Konzentrationskalibrierung/Saettigung_Luft.csv\", DataFrame);"
   ]
  },
  {
   "cell_type": "code",
   "execution_count": null,
   "id": "7c9db63d",
   "metadata": {},
   "outputs": [],
   "source": [
    "luft = plot(saettigungLuft.seconds, saettigungLuft.beleuchtungsstaerke, label = L\"\\mathrm{Luft} \\enspace (\\mathrm{gesättigt})\",\n",
    "    legend=:bottomright, xaxis = [0,530], yaxis = [0.78,0.92])\n",
    "plot!([50,50], [0.7, saettigungLuft[500, :beleuchtungsstaerke]], linestyle=:dash, linecolor=:darkorange,\n",
    "    label = L\"\\mathrm{Mittelwertbereich} \\enspace \\bar{I}_{0, \\mathrm{Luft}}\")\n",
    "plot!([150,150], [0.7, saettigungLuft[1500, :beleuchtungsstaerke]], linestyle=:dash, linecolor=:darkorange, label = \"\")\n",
    "plot!([230,230], [0.7, saettigungLuft[2300, :beleuchtungsstaerke]], linestyle=:dash, linecolor=:green,\n",
    "    label = L\"\\mathrm{Mittelwertbereich} \\enspace \\bar{I}_\\mathrm{Luft}\")\n",
    "plot!([300,300], [0.7, saettigungLuft[3000, :beleuchtungsstaerke]], linestyle=:dash, linecolor=:green, label = \"\")\n",
    "xlabel!(L\"\\mathrm{Zeit} \\enspace [\\mathrm{s}]\")\n",
    "ylabel!(L\"\\mathrm{Beleuchtungsstärke} \\enspace \\left[\\mathrm{\\frac{W}{m^2}}\\right]\")"
   ]
  },
  {
   "cell_type": "code",
   "execution_count": null,
   "id": "75420365-2e32-4e15-8b51-2946acb944a2",
   "metadata": {},
   "outputs": [],
   "source": [
    "# savefig(luft, \"../../media/B1.1/luft.pdf\");"
   ]
  },
  {
   "cell_type": "code",
   "execution_count": null,
   "id": "c172e240",
   "metadata": {},
   "outputs": [],
   "source": [
    "I_0_luft = mittelwert(saettigungLuft[500:1500,:beleuchtungsstaerke])"
   ]
  },
  {
   "cell_type": "code",
   "execution_count": null,
   "id": "8652af05",
   "metadata": {},
   "outputs": [],
   "source": [
    "I_luft = mittelwert(saettigungLuft[2300:3000,:beleuchtungsstaerke])"
   ]
  },
  {
   "cell_type": "code",
   "execution_count": null,
   "id": "e0cfd992",
   "metadata": {},
   "outputs": [],
   "source": [
    "T_luft = I_luft[1]/I_0_luft[1]"
   ]
  },
  {
   "cell_type": "code",
   "execution_count": null,
   "id": "650945ff",
   "metadata": {},
   "outputs": [],
   "source": [
    "# Gaußsche Fehlerfortfplanzung:\n",
    "T_luft_err = sqrt( (I_luft[2] / I_0_luft[1])^2 + (I_luft[1] * I_0_luft[2] / I_0_luft[1]^2)^2 )"
   ]
  },
  {
   "cell_type": "code",
   "execution_count": null,
   "id": "6a0bb201",
   "metadata": {},
   "outputs": [],
   "source": [
    "t1, t2, trans, t3, conc = t_rel_2(10^3)\n",
    "df = DataFrame(T=trans, C=conc)\n",
    ";"
   ]
  },
  {
   "cell_type": "code",
   "execution_count": null,
   "id": "acb6cc63",
   "metadata": {},
   "outputs": [],
   "source": [
    "# Plot\n",
    " #scatter(konzentrationen, transmissionswerte, label=L\"Messwerte\", xaxis=[0,0.001], yaxis=[0.8,1],\n",
    " #               xerr = konzentrationen_err, yerr = transmissionswerte_err)\n",
    "i = 1000\n",
    "t1, t2, y_array, t3, x_array = t_rel_2(i)\n",
    "luftZoom = plot([1], label=\"\") # Nur um Farben wie oben anzupassen\n",
    "plot!(x_array.*10^6, y_array.*100, label=L\"\\mathrm{Fit} \\enspace \\mathrm{mit} \\enspace px = 10^3\",\n",
    "    markeralpha=0.5, markershape=:diamond, xaxis=[0,1000], yaxis=[80,100])\n",
    "xlabel!(L\"\\mathrm{Konzentration} \\enspace [\\mathrm{ppm}]\")\n",
    "ylabel!(L\"\\mathrm{Transmissionswert} \\enspace [\\%]\")\n",
    "\n",
    "# Literaturwert:\n",
    "lit = 419 # ppm\n",
    "\n",
    "# Anliegende Punkte:\n",
    "x1 = 600\n",
    "x1_index = 7\n",
    "x2 = 700\n",
    "x2_index = 8\n",
    "\n",
    "# Gerade zwischen erstem und zweitem anliegendem Punkt:\n",
    "a_lit = (y_array[5] - y_array[4]) / (400 - 300)\n",
    "litHeight = (lit - 300) * a_lit + y_array[4]\n",
    "a = (y_array[x2_index] - y_array[x1_index]) / (x2 - x1)\n",
    "T_luftLength = x1 + (T_luft - y_array[x1_index]) / a\n",
    "luftHeight = (650 - x1) * a + y_array[x1_index]\n",
    "\n",
    "# Resultierende Plots:\n",
    "plot!([0, 2T_luftLength], [T_luft, T_luft].*100, label=L\"T_\\mathrm{Luft} \\approx 0.8832\") # 2*Länge aus ästetischen Gründen\n",
    "plot!([x1, x1], [0, y_array[x1_index]].*100, linestyle = :dash, label=L\"600 \\,\\mathrm{ppm}\")\n",
    "plot!([x2, x2], [0, y_array[x2_index]].*100, linestyle = :dash, label=L\"700 \\,\\mathrm{ppm}\")\n",
    "plot!([lit, lit], [0,litHeight].*100, label=L\"\\mathrm{Literaturwert} \\enspace K_\\mathrm{Luft} = 419 \\mathrm{\\, ppm}\")\n",
    "plot!([650, 650], [0, luftHeight].*100, label = L\"\\mathrm{Gemessenes} \\enspace K_\\mathrm{Luft} = 650 \\mathrm{\\, ppm}\")"
   ]
  },
  {
   "cell_type": "code",
   "execution_count": null,
   "id": "41c26df9-25a8-4a31-818c-7b3c87395f9f",
   "metadata": {},
   "outputs": [],
   "source": [
    "# savefig(luftZoom, \"../../media/B1.1/luftZoomPpm.pdf\");"
   ]
  },
  {
   "cell_type": "code",
   "execution_count": null,
   "id": "54149726",
   "metadata": {},
   "outputs": [],
   "source": [
    "T_luft_ppm = (700 + 600) / 2 # ppm (Literaturwert ~ 420 ppm bzw. 419 ppm)"
   ]
  },
  {
   "cell_type": "code",
   "execution_count": null,
   "id": "c7f0e884",
   "metadata": {},
   "outputs": [],
   "source": [
    "T_luft_ppm_err = (700 - 600) / 2 # Da dies genau die halbe Intervalllänge ist"
   ]
  },
  {
   "cell_type": "markdown",
   "id": "7c2838c8-fd6b-4b23-a04b-654373cff221",
   "metadata": {
    "jp-MarkdownHeadingCollapsed": true
   },
   "source": [
    "### Auswertungsteil 5: Driftkorrektur"
   ]
  },
  {
   "cell_type": "code",
   "execution_count": null,
   "id": "ef41909a-d8f0-4d44-9003-ea112f6844e8",
   "metadata": {},
   "outputs": [],
   "source": [
    "anschalt = CSV.read(\"IR-Transmission/Anschaltvorgang.csv\", DataFrame);"
   ]
  },
  {
   "cell_type": "code",
   "execution_count": null,
   "id": "340072c3-e5d6-4f1b-8485-111b8f20f3d7",
   "metadata": {},
   "outputs": [],
   "source": [
    "plot(anschalt.seconds, anschalt.beleuchtungsstaerke, xlabel=\"Zeit in s\", ylabel=\"Beleuchtungsstärke in W/m^2\", label=\"\")"
   ]
  },
  {
   "cell_type": "code",
   "execution_count": null,
   "id": "5c23df82-38c9-4994-a811-c56b3dbcf0ec",
   "metadata": {},
   "outputs": [],
   "source": [
    "data = DataFrame(seconds = anschalt.seconds, beleuchtungsstaerke = anschalt.beleuchtungsstaerke)\n",
    "\n",
    "# Funktion zur Berechnung der Koeffizienten der linearen Anpassung\n",
    "function linear_fit(x, y)\n",
    "    X = [ones(length(x)) x]  # Designmatrix\n",
    "    β = X \\ y  # Lineare Regression\n",
    "    return β\n",
    "end\n",
    "\n",
    "# Funktion zur Berechnung der Steigung in einem Intervall\n",
    "function calculate_slope(data::DataFrame, start_idx::Int, end_idx::Int, x_col::Symbol, y_col::Symbol)\n",
    "    # Daten im angegebenen Intervall extrahieren\n",
    "    subdata = data[start_idx:end_idx, :]\n",
    "    # Lineare Anpassung durchführen\n",
    "    β = linear_fit(subdata[:, x_col], subdata[:, y_col])\n",
    "    intercept, slope = β[1], β[2]\n",
    "    return slope\n",
    "end\n",
    "\n",
    "# Intervall definieren (ersetzen Sie dies durch Ihre tatsächlichen Intervalle)\n",
    "start_idx = 1100\n",
    "end_idx = 2000\n",
    "# Steigung im Intervall berechnen\n",
    "slope = calculate_slope(data, start_idx, end_idx, :seconds, :beleuchtungsstaerke)\n",
    "println(\"Die Steigung im Intervall $start_idx bis $end_idx ist $slope\")\n",
    "\n",
    "# Daten und angepasste Gerade im Intervall plotten\n",
    "subdata = data[start_idx:end_idx, :]\n",
    "β = linear_fit(subdata[:, :seconds], subdata[:, :beleuchtungsstaerke])\n",
    "intercept, slope = β[1], β[2]\n",
    "\n",
    "# Angepasstes Polynom definieren\n",
    "p = x -> intercept + slope * x\n",
    "\n",
    "# Plot\n",
    "scatter(data.seconds, data.beleuchtungsstaerke, label=\"Datenpunkte\")\n",
    "plot!(x -> p(x), minimum(subdata.seconds):0.1:maximum(subdata.seconds), label=\"Angepasste Gerade im Intervall\")"
   ]
  },
  {
   "cell_type": "code",
   "execution_count": null,
   "id": "d8c397fd-92e7-4443-91a9-e28877bb6220",
   "metadata": {},
   "outputs": [],
   "source": [
    "function g3(x)\n",
    "    if 0<=x<=310\n",
    "        return 1.179*10^(-4)*x\n",
    "    elseif x>310\n",
    "        return 0.0365\n",
    "    else 0\n",
    "    end\n",
    "end"
   ]
  },
  {
   "cell_type": "code",
   "execution_count": null,
   "id": "cbe1493b-8bcf-48f6-86c0-17c93afd07cb",
   "metadata": {},
   "outputs": [],
   "source": [
    "# Berechne die angepassten Werte mit der Geradenfunktion g3\n",
    "g_3 = g3.(anschalt.seconds)\n",
    "drift3 = anschalt.beleuchtungsstaerke .- g_3\n",
    "plot(drift3)"
   ]
  },
  {
   "cell_type": "code",
   "execution_count": null,
   "id": "b99cf0b5-5f46-48f5-ae8c-9302df812ea5",
   "metadata": {},
   "outputs": [],
   "source": [
    "data = DataFrame(seconds=anschalt.seconds, beleuchtungsstaerke=drift3)\n",
    "\n",
    "function linear_fit(x, y)\n",
    "    X = [ones(length(x)) x]  # Designmatrix\n",
    "    β = X \\ y  # Lineare Regression\n",
    "    return β\n",
    "end\n",
    "\n",
    "# Funktion zur Berechnung der Steigung in einem Intervall\n",
    "function calculate_slope(data, start_idx::Int, end_idx::Int, x_col::Symbol, y_col::Symbol)\n",
    "    # Daten im angegebenen Intervall extrahieren\n",
    "    subdata = data[start_idx:end_idx, :]\n",
    "    # Lineare Anpassung durchführen\n",
    "    β = linear_fit(subdata[:, x_col], subdata[:, y_col])\n",
    "    intercept, slope = β[1], β[2]\n",
    "    return slope\n",
    "end\n",
    "\n",
    "# Intervall definieren (ersetzen Sie dies durch Ihre tatsächlichen Intervalle)\n",
    "start_idx = 1100\n",
    "end_idx = 2000\n",
    "# Steigung im Intervall berechnen\n",
    "slope = calculate_slope(data, start_idx, end_idx, :seconds, :beleuchtungsstaerke)\n",
    "println(\"Die Steigung im Intervall $start_idx bis $end_idx ist $slope\")\n",
    "\n",
    "# Daten und angepasste Gerade im Intervall plotten\n",
    "subdata = data[start_idx:end_idx, :]\n",
    "β = linear_fit(subdata[:, :seconds], subdata[:, :beleuchtungsstaerke])\n",
    "intercept, slope = β[1], β[2]\n",
    "\n",
    "# Angepasstes Polynom definieren\n",
    "p = x -> intercept + slope * x\n",
    "\n",
    "# Plot\n",
    "scatter(data.seconds, data.beleuchtungsstaerke, label=\"Datenpunkte\")\n",
    "plot!(x -> p(x), minimum(subdata.seconds):0.1:maximum(subdata.seconds), label=\"Angepasste Gerade im Intervall\")"
   ]
  },
  {
   "cell_type": "code",
   "execution_count": null,
   "id": "bc220ecb-e3f9-4846-8015-c2268a645e88",
   "metadata": {},
   "outputs": [],
   "source": [
    "function g2(x)\n",
    "    if 0<=x<=200\n",
    "        return 1.8826*10^(-4)*x\n",
    "    elseif x>200\n",
    "        return 0.037652\n",
    "    else 0\n",
    "    end\n",
    "end"
   ]
  },
  {
   "cell_type": "code",
   "execution_count": null,
   "id": "9d13adac-ab09-44d4-994f-66eec173a786",
   "metadata": {},
   "outputs": [],
   "source": [
    "g_2 = g2.(anschalt.seconds)\n",
    "drift2 = drift3 .- g_2\n",
    "plot(drift2)"
   ]
  },
  {
   "cell_type": "code",
   "execution_count": null,
   "id": "6475161c-01db-4171-8846-c9ff6949c52f",
   "metadata": {},
   "outputs": [],
   "source": [
    "data = DataFrame(seconds=anschalt.seconds, beleuchtungsstaerke=drift2)\n",
    "\n",
    "function linear_fit(x, y)\n",
    "    X = [ones(length(x)) x]  # Designmatrix\n",
    "    β = X \\ y  # Lineare Regression\n",
    "    return β\n",
    "end\n",
    "\n",
    "# Funktion zur Berechnung der Steigung in einem Intervall\n",
    "function calculate_slope(data, start_idx::Int, end_idx::Int, x_col::Symbol, y_col::Symbol)\n",
    "    # Daten im angegebenen Intervall extrahieren\n",
    "    subdata = data[start_idx:end_idx, :]\n",
    "    # Lineare Anpassung durchführen\n",
    "    β = linear_fit(subdata[:, x_col], subdata[:, y_col])\n",
    "    intercept, slope = β[1], β[2]\n",
    "    return slope\n",
    "end\n",
    "\n",
    "# Intervall definieren (ersetzen Sie dies durch Ihre tatsächlichen Intervalle)\n",
    "start_idx = 960\n",
    "end_idx = 1100\n",
    "# Steigung im Intervall berechnen\n",
    "slope = calculate_slope(data, start_idx, end_idx, :seconds, :beleuchtungsstaerke)\n",
    "println(\"Die Steigung im Intervall $start_idx bis $end_idx ist $slope\")\n",
    "\n",
    "# Daten und angepasste Gerade im Intervall plotten\n",
    "subdata = data[start_idx:end_idx, :]\n",
    "β = linear_fit(subdata[:, :seconds], subdata[:, :beleuchtungsstaerke])\n",
    "intercept, slope = β[1], β[2]\n",
    "\n",
    "# Angepasstes Polynom definieren\n",
    "p = x -> intercept + slope * x\n",
    "\n",
    "# Plot\n",
    "scatter(data.seconds, data.beleuchtungsstaerke, label=\"Datenpunkte\")\n",
    "plot!(x -> p(x), minimum(subdata.seconds):0.1:maximum(subdata.seconds), label=\"Angepasste Gerade im Intervall\")\n"
   ]
  },
  {
   "cell_type": "code",
   "execution_count": null,
   "id": "039f9cdf-ccf5-40f0-bf36-84ed0a2007ac",
   "metadata": {},
   "outputs": [],
   "source": [
    "function g1(x)\n",
    "    if 0<=x<=110\n",
    "        return 7.0576*10^(-4)*x\n",
    "    elseif x>110\n",
    "        return 7.0576*10^(-4)*110\n",
    "    else 0\n",
    "    end\n",
    "end"
   ]
  },
  {
   "cell_type": "code",
   "execution_count": null,
   "id": "5463ec26-ff31-4166-b611-49d3ad462d63",
   "metadata": {},
   "outputs": [],
   "source": [
    "g_1 = g1.(anschalt.seconds)\n",
    "drift1 = drift2 .- g_1\n",
    "plot(drift1)"
   ]
  },
  {
   "cell_type": "code",
   "execution_count": null,
   "id": "ae26387f-b3cf-4b59-9105-47cd571e59f2",
   "metadata": {},
   "outputs": [],
   "source": [
    "b = minimum(drift1)"
   ]
  },
  {
   "cell_type": "code",
   "execution_count": null,
   "id": "ed8b0d01-6e31-43cf-9369-c0dfd77e53f0",
   "metadata": {},
   "outputs": [],
   "source": [
    "ohne_drift = drift1 .- b\n",
    "plot(anschalt.seconds,ohne_drift, xlabel=L\"\\mathrm{Zeit}\\ [\\mathrm{s}]\",\n",
    "    ylabel=L\"\\mathrm{Beleuchtungsstärke}\\ \\left[\\mathrm{\\frac{W}{m^2}}\\right]\",\n",
    "    label=L\"\\mathrm{ohne\\ Drift\\ und\\ entlang\\ } y\\mathrm{-Achse\\ verschoben}\")\n",
    "plot!(anschalt.seconds,drift1, label=L\"\\mathrm{nach\\ } 3. \\mathrm{Korrektur}\")\n",
    "plot!(anschalt.seconds,drift2, label=L\"\\mathrm{nach\\ } 2. \\mathrm{Korrektur}\")\n",
    "plot!(anschalt.seconds,drift3, label=L\"\\mathrm{nach\\ } 1. \\mathrm{Korrektur}\")\n",
    "plot!(anschalt.seconds,anschalt.beleuchtungsstaerke, label=L\"\\mathrm{ohne\\ Korrektur}\")"
   ]
  },
  {
   "cell_type": "code",
   "execution_count": null,
   "id": "681c6de2-fa92-4248-9f53-c740b4a8c24f",
   "metadata": {},
   "outputs": [],
   "source": [
    "# savefig(\"../../media/B1.1/Drift.pdf\");"
   ]
  },
  {
   "cell_type": "code",
   "execution_count": null,
   "id": "c1c4ccd5-ad17-443f-8dc3-1380c18e2bb0",
   "metadata": {},
   "outputs": [],
   "source": [
    "data = DataFrame(x=anschalt.seconds, y=anschalt.beleuchtungsstaerke);"
   ]
  },
  {
   "cell_type": "code",
   "execution_count": null,
   "id": "a643ab19-5fe4-4a0c-82e3-f6981fc1d534",
   "metadata": {},
   "outputs": [],
   "source": [
    "start_sec = 155.5\n",
    "end_sec = 155.5\n",
    "\n",
    "filtered_data = filter(row -> start_sec <= row.x <= end_sec, data)\n",
    "mean_value = mean(filtered_data.y)\n",
    "println(\"Der Mittelwert der Beleuchtungsstärke im Bereich $start_sec bis $end_sec Sekunden ist: $mean_value\")"
   ]
  },
  {
   "cell_type": "code",
   "execution_count": null,
   "id": "0ab14ff9-95cd-4f23-a327-2dbdbb3c49be",
   "metadata": {},
   "outputs": [],
   "source": [
    "start_sec =310\n",
    "end_sec = 567.2\n",
    "filtered_data = filter(row -> start_sec <= row.x <= end_sec, data)\n",
    "mean_value1 = mean(filtered_data.y)\n",
    "println(\"Der Mittelwert der Beleuchtungsstärke im Bereich $start_sec bis $end_sec Sekunden ist: $mean_value1\")"
   ]
  },
  {
   "cell_type": "code",
   "execution_count": null,
   "id": "1eb88fb1-48ec-474b-a3b1-105bc153faeb",
   "metadata": {},
   "outputs": [],
   "source": [
    "mittel = mean_value/mean_value1"
   ]
  },
  {
   "cell_type": "code",
   "execution_count": null,
   "id": "7816bacc-340e-4a3d-88b5-61031ad52c8b",
   "metadata": {},
   "outputs": [],
   "source": [
    "stationarer_wert = mean(ohne_drift[1000:5500])"
   ]
  },
  {
   "cell_type": "markdown",
   "id": "6ed1ccc8-27ba-4892-aaad-55686b11d8f9",
   "metadata": {},
   "source": [
    "#### fitting"
   ]
  },
  {
   "cell_type": "code",
   "execution_count": null,
   "id": "ea859ca8-d7c1-4c34-9edf-6a925116b184",
   "metadata": {},
   "outputs": [],
   "source": [
    "zeitverschiebung = 148 # 10th of second\n",
    "zeitintervall_ende = length(ohne_drift) - zeitverschiebung\n",
    "\n",
    "verschobene_zeit = anschalt.seconds[zeitverschiebung:zeitintervall_ende] .- zeitverschiebung/10\n",
    "verschoben_ohne_drift = ohne_drift[zeitverschiebung:zeitintervall_ende]\n",
    "\n",
    "plot(anschalt.seconds .- zeitverschiebung/10, ohne_drift)\n",
    "plot!(verschobene_zeit, verschoben_ohne_drift)"
   ]
  },
  {
   "cell_type": "code",
   "execution_count": null,
   "id": "fc87762c-1280-49ae-b00b-e29da56535e9",
   "metadata": {},
   "outputs": [],
   "source": [
    "rounded_string(value) = rpad(round(value, digits=3), length(string(round(value))) , \"0\")"
   ]
  },
  {
   "cell_type": "markdown",
   "id": "82300891-e879-4a75-a71c-c79fefafa137",
   "metadata": {},
   "source": [
    "`curve_fit` benötigt (mindestens) zwei Parameter zum Fitten. Da nur einer benötigt wird, wir dieser als Summe beider notwendigen Parameter dargestellt."
   ]
  },
  {
   "cell_type": "code",
   "execution_count": null,
   "id": "89243c01-0d9a-42fd-bb8e-95831b273f88",
   "metadata": {},
   "outputs": [],
   "source": [
    "fit_range = 1:500\n",
    "fit_func(x, p) = stationarer_wert .* (1 .- exp.(-x./(p[1]+p[2])))\n",
    "\n",
    "result = curve_fit(fit_func, verschobene_zeit[fit_range], verschoben_ohne_drift[fit_range], [0.8, 8]);\n",
    "zeitkonstante = rounded_string(sum(result.param))\n",
    "@show zeitkonstante\n",
    "\n",
    "plot(verschobene_zeit[fit_range], verschoben_ohne_drift[fit_range], label=L\"\\mathrm{korrigierte\\ Messwerte}\",\n",
    "    xlabel=L\"\\mathrm{Zeit}\\ [\\mathrm{s}]\", ylabel=L\"\\mathrm{Beleuchtungsstärke}\\ \\left[\\mathrm{\\frac{W}{m^2}}\\right]\")\n",
    "plot!(verschobene_zeit[fit_range], fit_func(verschobene_zeit[fit_range], result.param),\n",
    "    label=\"\\$\\\\mathrm{Fit\\\\ mit\\\\ Zeitkonstante\\\\ }\\\\tau=$zeitkonstante\\$\")"
   ]
  },
  {
   "cell_type": "code",
   "execution_count": null,
   "id": "8cf69dde-143a-4982-aefe-695c5487b762",
   "metadata": {},
   "outputs": [],
   "source": [
    "# savefig(\"../../media/B1.1/Zeitkonstante-zoomed.pdf\");"
   ]
  },
  {
   "cell_type": "code",
   "execution_count": null,
   "id": "4e3dba5f-cc4d-43b8-93e2-45181f10ea64",
   "metadata": {},
   "outputs": [],
   "source": [
    "plot(anschalt.seconds .- zeitverschiebung/10, ohne_drift, label=L\"\\mathrm{korrigierte\\ Messwerte}\",\n",
    "    xlabel=L\"\\mathrm{Zeit}\\ [\\mathrm{s}]\", ylabel=L\"\\mathrm{Beleuchtungsstärke}\\ \\left[\\mathrm{\\frac{W}{m^2}}\\right]\")\n",
    "plot!(verschobene_zeit, fit_func(verschobene_zeit, result.param),\n",
    "    label=\"\\$\\\\mathrm{Fit\\\\ mit\\\\ Zeitkonstante\\\\ }\\\\tau=$zeitkonstante\\$\")"
   ]
  },
  {
   "cell_type": "code",
   "execution_count": null,
   "id": "551626bf-3206-4477-b918-cf5fcadbd8cc",
   "metadata": {},
   "outputs": [],
   "source": [
    "# savefig(\"../../media/B1.1/Zeitkonstante.pdf\");"
   ]
  },
  {
   "cell_type": "markdown",
   "id": "87f0b149-d9e3-4e42-9346-890122a1ae2f",
   "metadata": {
    "jp-MarkdownHeadingCollapsed": true
   },
   "source": [
    "### Mittelwerte"
   ]
  },
  {
   "cell_type": "code",
   "execution_count": null,
   "id": "b5dbecb8-6023-4345-a849-d547b2823131",
   "metadata": {},
   "outputs": [],
   "source": [
    "start_sec = 100\n",
    "end_sec = 100\n",
    "filtered_data = filter(row -> start_sec <= row.x <= end_sec, data)\n",
    "mean_value = mean(filtered_data.y)\n",
    "println(\"Der Mittelwert der Beleuchtungsstärke im Bereich $start_sec bis $end_sec Sekunden ist: $mean_value\")"
   ]
  },
  {
   "cell_type": "code",
   "execution_count": null,
   "id": "bdc477ed-8c3d-44d2-b1b5-1a05c7f817c7",
   "metadata": {},
   "outputs": [],
   "source": [
    "mean_value/0.8797"
   ]
  },
  {
   "cell_type": "code",
   "execution_count": null,
   "id": "947df557-1d7a-4f40-9132-a44bb5050e35",
   "metadata": {},
   "outputs": [],
   "source": [
    "# Beispiel-Daten\n",
    "t_data = verschobene_zeit  # Zeit-Daten\n",
    "y_data = verschoben_ohne_drift  # Messwerte\n",
    "\n",
    "# Modellfunktion\n",
    "model(t, a) = 0.8797 .* (1 .- exp.(-t ./ a))\n",
    "\n",
    "# Anfangsschätzung für Parameter a\n",
    "initial_guess = [3.0]\n",
    "\n",
    "# Kurvenanpassung\n",
    "kurve = curve_fit(model, t_data, y_data, initial_guess)\n",
    "\n",
    "# Ergebnisse ausgeben\n",
    "println(\"Angepasster Parameter a: \", kurve.param[1])"
   ]
  },
  {
   "cell_type": "code",
   "execution_count": null,
   "id": "dc7dc374-f5f7-4a37-ba00-9c2d3a1341a7",
   "metadata": {},
   "outputs": [],
   "source": [
    "# Kovarianzmatrix\n",
    "covariance_matrix = estimate_covar(kurve)\n",
    "\n",
    "# Fehler für a ist die Quadratwurzel des entsprechenden Diagonalelements der Kovarianzmatrix\n",
    "standard_errors = sqrt.(diag(covariance_matrix))\n",
    "\n",
    "# Fehler für a\n",
    "error_a = standard_errors[1]\n",
    "\n",
    "# Ergebnisse ausgeben\n",
    "\n",
    "println(\"Fehler für a: \", error_a)"
   ]
  }
 ],
 "metadata": {
  "kernelspec": {
   "display_name": "Julia 1.9.2",
   "language": "julia",
   "name": "julia-1.9"
  },
  "language_info": {
   "file_extension": ".jl",
   "mimetype": "application/julia",
   "name": "julia",
   "version": "1.9.2"
  }
 },
 "nbformat": 4,
 "nbformat_minor": 5
}
