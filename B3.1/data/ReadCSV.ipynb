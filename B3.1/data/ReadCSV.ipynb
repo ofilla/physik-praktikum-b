{
 "cells": [
  {
   "cell_type": "code",
   "execution_count": 1,
   "id": "414a7bd3-3b45-43f2-9767-1895677e7efd",
   "metadata": {},
   "outputs": [],
   "source": [
    "import CSV"
   ]
  },
  {
   "cell_type": "markdown",
   "id": "56fe824b-648a-43c8-9940-2a6d325ae628",
   "metadata": {},
   "source": [
    "Lese Datei `short_measurements.csv`"
   ]
  },
  {
   "cell_type": "code",
   "execution_count": 2,
   "id": "3d947375-9b83-4ccb-9bcc-ab539b14d810",
   "metadata": {},
   "outputs": [
    {
     "data": {
      "text/plain": [
       "12-element CSV.File:\n",
       " CSV.Row: (sample_name = InlineStrings.String15(\"sample_6_7\"), seconds = 300, voltage = 500, count = 20300)\n",
       " CSV.Row: (sample_name = InlineStrings.String15(\"sample_6_7\"), seconds = 300, voltage = 550, count = 25509)\n",
       " CSV.Row: (sample_name = InlineStrings.String15(\"sample_6_7\"), seconds = 300, voltage = 600, count = 28522)\n",
       " CSV.Row: (sample_name = InlineStrings.String15(\"sample_6\"), seconds = 300, voltage = 500, count = 11044)\n",
       " CSV.Row: (sample_name = InlineStrings.String15(\"sample_6\"), seconds = 300, voltage = 550, count = 12260)\n",
       " CSV.Row: (sample_name = InlineStrings.String15(\"sample_6\"), seconds = 300, voltage = 600, count = 12917)\n",
       " CSV.Row: (sample_name = InlineStrings.String15(\"sample_7\"), seconds = 300, voltage = 500, count = 15833)\n",
       " CSV.Row: (sample_name = InlineStrings.String15(\"sample_7\"), seconds = 300, voltage = 550, count = 17914)\n",
       " CSV.Row: (sample_name = InlineStrings.String15(\"sample_7\"), seconds = 300, voltage = 600, count = 19421)\n",
       " CSV.Row: (sample_name = InlineStrings.String15(\"no_sample\"), seconds = 300, voltage = 500, count = 2396)\n",
       " CSV.Row: (sample_name = InlineStrings.String15(\"no_sample\"), seconds = 300, voltage = 550, count = 2513)\n",
       " CSV.Row: (sample_name = InlineStrings.String15(\"no_sample\"), seconds = 300, voltage = 600, count = 2550)"
      ]
     },
     "execution_count": 2,
     "metadata": {},
     "output_type": "execute_result"
    }
   ],
   "source": [
    "file = CSV.File(\"short_measurements.csv\")"
   ]
  },
  {
   "cell_type": "markdown",
   "id": "2c51f399-76ed-4ffe-aa63-315add93ebca",
   "metadata": {},
   "source": [
    "Spalte `sample_name`"
   ]
  },
  {
   "cell_type": "code",
   "execution_count": 3,
   "id": "70f13861-5d5c-40df-b1de-a8e682bf4dbd",
   "metadata": {},
   "outputs": [
    {
     "data": {
      "text/plain": [
       "12-element Vector{InlineStrings.String15}:\n",
       " \"sample_6_7\"\n",
       " \"sample_6_7\"\n",
       " \"sample_6_7\"\n",
       " \"sample_6\"\n",
       " \"sample_6\"\n",
       " \"sample_6\"\n",
       " \"sample_7\"\n",
       " \"sample_7\"\n",
       " \"sample_7\"\n",
       " \"no_sample\"\n",
       " \"no_sample\"\n",
       " \"no_sample\""
      ]
     },
     "execution_count": 3,
     "metadata": {},
     "output_type": "execute_result"
    }
   ],
   "source": [
    "file.sample_name"
   ]
  },
  {
   "cell_type": "markdown",
   "id": "63736777-4f6c-437f-9912-f775c3781e44",
   "metadata": {},
   "source": [
    "Vektor mit Datei-Spalten als Zeilen"
   ]
  },
  {
   "cell_type": "code",
   "execution_count": 4,
   "id": "3a0efca4-70e2-41df-aebc-61403afe031c",
   "metadata": {},
   "outputs": [
    {
     "data": {
      "text/plain": [
       "4-element Vector{Vector}:\n",
       " InlineStrings.String15[\"sample_6_7\", \"sample_6_7\", \"sample_6_7\", \"sample_6\", \"sample_6\", \"sample_6\", \"sample_7\", \"sample_7\", \"sample_7\", \"no_sample\", \"no_sample\", \"no_sample\"]\n",
       " [300, 300, 300, 300, 300, 300, 300, 300, 300, 300, 300, 300]\n",
       " [500, 550, 600, 500, 550, 600, 500, 550, 600, 500, 550, 600]\n",
       " [20300, 25509, 28522, 11044, 12260, 12917, 15833, 17914, 19421, 2396, 2513, 2550]"
      ]
     },
     "execution_count": 4,
     "metadata": {},
     "output_type": "execute_result"
    }
   ],
   "source": [
    "[\n",
    "    file.sample_name,\n",
    "    file.seconds,\n",
    "    file.voltage,\n",
    "    file.count\n",
    "]"
   ]
  }
 ],
 "metadata": {
  "kernelspec": {
   "display_name": "Julia 1.9.2",
   "language": "julia",
   "name": "julia-1.9"
  },
  "language_info": {
   "file_extension": ".jl",
   "mimetype": "application/julia",
   "name": "julia",
   "version": "1.9.2"
  }
 },
 "nbformat": 4,
 "nbformat_minor": 5
}
