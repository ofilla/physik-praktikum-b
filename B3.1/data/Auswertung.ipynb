{
 "cells": [
  {
   "cell_type": "markdown",
   "id": "159e348b-f594-4ef8-90ea-aaa6af51b507",
   "metadata": {},
   "source": [
    "# Auswertung B3.1"
   ]
  },
  {
   "cell_type": "code",
   "execution_count": null,
   "id": "a304f195",
   "metadata": {},
   "outputs": [],
   "source": [
    "using CSV\n",
    "using DataFrames\n",
    "using Plots\n",
    "using LaTeXStrings\n",
    "using LsqFit\n",
    "using Measurements\n",
    "using Statistics"
   ]
  },
  {
   "cell_type": "markdown",
   "id": "4d12ef72",
   "metadata": {
    "jp-MarkdownHeadingCollapsed": true
   },
   "source": [
    "## Rechnungen zur Vorbereitung"
   ]
  },
  {
   "cell_type": "code",
   "execution_count": null,
   "id": "3ea5a62b",
   "metadata": {},
   "outputs": [],
   "source": [
    "T_12 = 30.08 * 365.25 * 24 * 60 * 60 # s"
   ]
  },
  {
   "cell_type": "code",
   "execution_count": null,
   "id": "01d64771",
   "metadata": {},
   "outputs": [],
   "source": [
    "log(2) / T_12"
   ]
  },
  {
   "cell_type": "markdown",
   "id": "12a49d67",
   "metadata": {
    "jp-MarkdownHeadingCollapsed": true
   },
   "source": [
    "## 0: Rohe Messdaten"
   ]
  },
  {
   "cell_type": "markdown",
   "id": "37955f6c",
   "metadata": {},
   "source": [
    "##### Sample 6, 500 V, 45min:"
   ]
  },
  {
   "cell_type": "code",
   "execution_count": null,
   "id": "9c7cd329",
   "metadata": {},
   "outputs": [],
   "source": [
    "# ΔT = 0.2, binning = 1\n",
    "zerfälle_6_500_1 = [0,1,2,3,4,5,6,7,8,9,10,11,12,13,14,15,16]\n",
    "anzahl_6_500_1 = [3,50,167,477,1056,1707,2308,2482,2159,1493,916,424,165,69,19,2,2]\n",
    "plot(bar(zerfälle_6_500_1,anzahl_6_500_1,label=\"\"), title=L\"Sample 6, $500\\mathrm{\\,V}$, $45\\mathrm{\\,min}$, binning = $1$\")\n",
    "xlabel!(L\"Zerfälle in $0.2\\mathrm{\\,s}$\")\n",
    "ylabel!(\"Anzahl an Messungen\")"
   ]
  },
  {
   "cell_type": "code",
   "execution_count": null,
   "id": "b7d81c76",
   "metadata": {},
   "outputs": [],
   "source": [
    "# ΔT = 5s, binning = 8\n",
    "zerfälle_6_500_2 = [0,1,2,3,4,5,6,7,8,9,10,11,12,13,14,15,16,17,18,19,20,21,22,23,24,25,26]\n",
    "anzahl_6_500_2 = [0,0,0,0,0,0,0,0,0,0,0,0,0,0,0,0,3,3,18,47,107,123,120,80,29,8,1]\n",
    "plot(bar(zerfälle_6_500_2,anzahl_6_500_2,label=\"\"), title=L\"Sample 6, $500\\mathrm{\\,V}$, $45\\mathrm{\\,min}$, binning = $8$\")\n",
    "xlabel!(L\"Zerfälle in $5\\mathrm{\\,s}$\")\n",
    "ylabel!(\"Anzahl an Messungen\")"
   ]
  },
  {
   "cell_type": "markdown",
   "id": "1994ef6d",
   "metadata": {},
   "source": [
    "##### Sample 6, 600V, 45min:"
   ]
  },
  {
   "cell_type": "code",
   "execution_count": null,
   "id": "9740baf9",
   "metadata": {},
   "outputs": [],
   "source": [
    "# ΔT = 0.2s, binning = 1\n",
    "zerfälle_6_600_1 = [0,1,2,3,4,5,6,7,8,9,10,11,12,13,14,15,16,17,18,19,20,21]\n",
    "anzahl_6_600_1 = [8,26,96,238,553,1021,1441,1775,1946,1822,1552,1148,796,532,265,150,74,38,12,5,0,1]\n",
    "plot(bar(zerfälle_6_600_1,anzahl_6_600_1,label=\"\"), title=L\"Sample 6, $600\\mathrm{\\,V}$, $45\\mathrm{\\,min}$, binning = $1$\")\n",
    "xlabel!(L\"Zerfälle in $0.2\\mathrm{\\,s}$\")\n",
    "ylabel!(\"Anzahl an Messungen\")"
   ]
  },
  {
   "cell_type": "code",
   "execution_count": null,
   "id": "907fffdc",
   "metadata": {},
   "outputs": [],
   "source": [
    "# ΔT = 5s, binning = 8\n",
    "zerfälle_6_600_2 = [0,1,2,3,4,5,6,7,8,9,10,11,12,13,14,15,16,17,18,19,20,21,22,23,24,25,26,27,28,29,30,31,32]\n",
    "anzahl_6_600_2 = [0,0,0,0,0,0,0,0,0,0,0,0,0,0,0,0,0,0,0,0,0,2,9,28,70,103,129,104,59,22,8,3,2]\n",
    "plot(bar(zerfälle_6_600_2,anzahl_6_600_2,label=\"\"), title=L\"Sample 6, $600\\mathrm{\\,V}$, $45\\mathrm{\\,min}$, binning = $8$\")\n",
    "xlabel!(L\"Zerfälle in $5\\mathrm{\\,s}$\")\n",
    "ylabel!(\"Anzahl an Messungen\")"
   ]
  },
  {
   "cell_type": "markdown",
   "id": "9244553b",
   "metadata": {},
   "source": [
    "##### Sample 6+7, 500V, 45min:"
   ]
  },
  {
   "cell_type": "code",
   "execution_count": null,
   "id": "ef5a3ff9",
   "metadata": {},
   "outputs": [],
   "source": [
    "# ΔT = 0.2s, binning = 1\n",
    "zerfälle_6und7_500_1 = [0,1,2,3,4,5,6,7,8,9,10,11,12,13,14,15,16,17,18,19,20,21,22,23]\n",
    "anzahl_6und7_500_1 = [0,0,0,0,1,5,26,78,227,443,875,1373,1917,2175,2140,1712,1193,768,375,139,38,11,2,1]\n",
    "plot(bar(zerfälle_6und7_500_1,anzahl_6und7_500_1,label=\"\"), title=L\"Samples 6 + 7, $500\\mathrm{\\,V}$, $45\\mathrm{\\,min}$, binning = $1$\")\n",
    "xlabel!(L\"Zerfälle in $0.2\\mathrm{\\,s}$\")\n",
    "ylabel!(\"Anzahl an Messungen\")"
   ]
  },
  {
   "cell_type": "code",
   "execution_count": null,
   "id": "de0e5ca8",
   "metadata": {},
   "outputs": [],
   "source": [
    "# ΔT = 5s, binning = 8\n",
    "zerfälle_6und7_500_2 = [0,1,2,3,4,5,6,7,8,9,10,11,12,13,14,15,16,17,18,19,20,21,22,23,24,25,26,27,28,29,30,31,32,33,34,\n",
    "    35,36,37,38,39,40,41,42,43,44,45,46]\n",
    "anzahl_6und7_500_2 = [0,0,0,0,0,0,0,0,0,0,0,0,0,0,0,0,0,0,0,0,0,0,0,0,0,0,0,0,0,0,0,0,0,0,0,0,0,5,12,63,101,130,119,69,\n",
    "    29,7,4]\n",
    "plot(bar(zerfälle_6und7_500_2,anzahl_6und7_500_2,label=\"\"), title=L\"Sample 6 + 7, $500\\mathrm{\\,V}$, $45\\mathrm{\\,min}$, binning = $8$\")\n",
    "xlabel!(L\"Zerfälle in $5\\mathrm{\\,s}$\")\n",
    "ylabel!(\"Anzahl an Messungen\")"
   ]
  },
  {
   "cell_type": "markdown",
   "id": "50081850",
   "metadata": {
    "jp-MarkdownHeadingCollapsed": true
   },
   "source": [
    "## 1: Poisson-Verteilung"
   ]
  },
  {
   "cell_type": "code",
   "execution_count": null,
   "id": "8fca0bcd-9b49-4b5a-9b87-019551aa65ac",
   "metadata": {},
   "outputs": [],
   "source": [
    "mittel(anzahl, zerfälle) = sum(anzahl .* zerfälle)/sum(anzahl)\n",
    "Poisson(n, N, lambda) = N * lambda^big(n) * exp(-lambda) / factorial(big(n))\n",
    "\n",
    "# runde auf 3 Nachkommastellen ohne \"0\" am Ende zu verschlucken\n",
    "rounded_string(value) = rpad(round(value, digits=3), length(string(round(value))) +2 , \"0\")"
   ]
  },
  {
   "cell_type": "code",
   "execution_count": null,
   "id": "49108afb-67aa-45d7-8a12-ace203214f39",
   "metadata": {},
   "outputs": [],
   "source": [
    "function plotte_poisson(anzahl, zerfälle; new_plot=true)\n",
    "    # Passende Poissonverteilung:\n",
    "    lambda = mittel(anzahl, zerfälle)\n",
    "    lambda_rounded = rounded_string(lambda)\n",
    "    P(n) = Poisson(n, sum(anzahl), lambda)\n",
    "\n",
    "    if new_plot\n",
    "        plot()\n",
    "        bar!(zerfälle,anzahl,label=L\"\\mathrm{Messdaten}\")\n",
    "    end\n",
    "\n",
    "    bar!(0:25,P,label=LaTeXString(\"\\$\\\\mathrm{Poisson\\\\ mit\\\\ } \\\\lambda = $lambda_rounded\\$\"),alpha=0.5)\n",
    "    xlabel!(L\"\\mathrm{Anzahl\\ der\\ Zerfälle\\ in\\ }0.2\\mathrm{\\,s}\")\n",
    "    ylabel!(L\"\\mathrm{Anzahl\\ der\\ Messungen}\")\n",
    "end"
   ]
  },
  {
   "cell_type": "markdown",
   "id": "18a9b33d",
   "metadata": {},
   "source": [
    "#### Sample 6, 500V, 45min, ΔT = 0.2s, binning = 1"
   ]
  },
  {
   "cell_type": "code",
   "execution_count": null,
   "id": "0535f461-00c0-47e8-8dde-2728047ceffe",
   "metadata": {},
   "outputs": [],
   "source": [
    "# Messdaten mit ΔT = 0.2, binning = 1\n",
    "zerfälle_6_500_1 = [0,1,2,3,4,5,6,7,8,9,10,11,12,13,14,15,16]\n",
    "anzahl_6_500_1 = [3,50,167,477,1056,1707,2308,2482,2159,1493,916,424,165,69,19,2,2]\n",
    "\n",
    "plotte_poisson(anzahl_6_500_1, zerfälle_6_500_1)"
   ]
  },
  {
   "cell_type": "markdown",
   "id": "f28011ed-caa8-4b62-8461-c7849def7555",
   "metadata": {},
   "source": [
    "savefig(\"../../media/B3.1/poisson1.pdf\");"
   ]
  },
  {
   "cell_type": "markdown",
   "id": "81beb1ad",
   "metadata": {},
   "source": [
    "#### Sample 6, 600V, 45min, ΔT = 0.2s, binning = 1"
   ]
  },
  {
   "cell_type": "code",
   "execution_count": null,
   "id": "7d471ac2",
   "metadata": {},
   "outputs": [],
   "source": [
    "# Messdaten mit ΔT = 0.2s, binning = 1\n",
    "zerfälle_6_600_1 = [0,1,2,3,4,5,6,7,8,9,10,11,12,13,14,15,16,17,18,19,20,21]\n",
    "anzahl_6_600_1 = [8,26,96,238,553,1021,1441,1775,1946,1822,1552,1148,796,532,265,150,74,38,12,5,0,1]\n",
    "\n",
    "plotte_poisson(anzahl_6_600_1, zerfälle_6_600_1)"
   ]
  },
  {
   "cell_type": "markdown",
   "id": "51f577b4-ecaa-4063-890a-7275380578b3",
   "metadata": {},
   "source": [
    "savefig(\"../../media/B3.1/poisson2.pdf\");"
   ]
  },
  {
   "cell_type": "markdown",
   "id": "78634c00",
   "metadata": {},
   "source": [
    "#### Sample 6 + 7, 500V, 45min, ΔT = 0.2s, binning = 1"
   ]
  },
  {
   "cell_type": "code",
   "execution_count": null,
   "id": "f9c8eb49",
   "metadata": {},
   "outputs": [],
   "source": [
    "# Messdaten mit ΔT = 0.2s, binning = 1\n",
    "zerfälle_6und7_500_1 = [0,1,2,3,4,5,6,7,8,9,10,11,12,13,14,15,16,17,18,19,20,21,22,23]\n",
    "anzahl_6und7_500_1 = [0,0,0,0,1,5,26,78,227,443,875,1373,1917,2175,2140,1712,1193,768,375,139,38,11,2,1]\n",
    "\n",
    "plotte_poisson(anzahl_6und7_500_1, zerfälle_6und7_500_1)"
   ]
  },
  {
   "cell_type": "markdown",
   "id": "8757341e-8fc0-46a3-a7ee-fd748d583de9",
   "metadata": {},
   "source": [
    "savefig(\"../../media/B3.1/poisson3.pdf\");"
   ]
  },
  {
   "cell_type": "markdown",
   "id": "9072d195",
   "metadata": {},
   "source": [
    "Alle Poisson-Verteilungen zusammen:"
   ]
  },
  {
   "cell_type": "code",
   "execution_count": null,
   "id": "73c58f02-8ff3-4a49-ae6b-33fb16d64fb7",
   "metadata": {},
   "outputs": [],
   "source": [
    "plot()\n",
    "plotte_poisson(anzahl_6_500_1, zerfälle_6_500_1, new_plot=false)\n",
    "plotte_poisson(anzahl_6_600_1, zerfälle_6_600_1, new_plot=false)\n",
    "plotte_poisson(anzahl_6und7_500_1, zerfälle_6und7_500_1, new_plot=false)\n",
    "vline!([10], color=:red, label=\"\")"
   ]
  },
  {
   "cell_type": "markdown",
   "id": "39f7f4d0-e457-409c-bbd7-b621f2b93ed1",
   "metadata": {},
   "source": [
    "savefig(\"../../media/B3.1/allePoisson.pdf\");"
   ]
  },
  {
   "cell_type": "markdown",
   "id": "98b261d8",
   "metadata": {
    "jp-MarkdownHeadingCollapsed": true
   },
   "source": [
    "## 2: Gaußverteilung"
   ]
  },
  {
   "cell_type": "code",
   "execution_count": null,
   "id": "9cc0202f-21be-4268-a973-dfa7cf0af4c4",
   "metadata": {},
   "outputs": [],
   "source": [
    "n = 8 # Binning (für alle Messungen gleich)\n",
    "Δt = 5 # (für alle Messungen gleich)\n",
    "\n",
    "G(x, m, F, n=8) = 1/sqrt(2 * pi * m) * F * sqrt(n) * exp(- (x - m)^2 / (2 * m / n))"
   ]
  },
  {
   "cell_type": "markdown",
   "id": "e0e26108",
   "metadata": {},
   "source": [
    "Sample 6, 500V, 45min, ΔT = 5s, binning = 8:"
   ]
  },
  {
   "cell_type": "code",
   "execution_count": null,
   "id": "66386999",
   "metadata": {},
   "outputs": [],
   "source": [
    "# Messdaten mit ΔT = 5s, binning = 8\n",
    "anzahl_6_500_2 = [2,0,0,0,0,0,0,0,0,0,0,0,0,0,0,0,3,3,18,47,107,123,120,80,29,8,1,0,0,0]\n",
    "\n",
    "# Schneide interessanten Bereich hereaus\n",
    "zerfälle_6_500_2 = 16:29\n",
    "anzahl_6_500_2 = anzahl_6_500_2[zerfälle_6_500_2]\n",
    "\n",
    "# Passende Gaußverteilung:\n",
    "z_strich = 11044/300 # Aus Kurzmessung\n",
    "z_strich_korr = sum(anzahl_6_500_1 .* zerfälle_6_500_1)/(45*60) # Diesmal aus 45 min Messung\n",
    "m = z_strich_korr * Δt / n\n",
    "F = sum(anzahl_6_500_2)\n",
    "G(x) = G(x, m, F)\n",
    "\n",
    "# Plot\n",
    "gauß1 = plot(bar(zerfälle_6_500_2.-1,anzahl_6_500_2,label=L\"\\mathrm{Messdaten}\"), legend=:none)\n",
    "plot!(G,color=:red,label=L\"\\mathrm{Gauß}\")\n",
    "\n",
    "xlabel!(L\"\\mathrm{Anzahl\\ der\\ Zerfälle\\ in\\ }5\\mathrm{\\,s}\")\n",
    "ylabel!(L\"\\mathrm{Anzahl\\ der\\ Messungen}\")"
   ]
  },
  {
   "cell_type": "code",
   "execution_count": null,
   "id": "151b879a",
   "metadata": {},
   "outputs": [],
   "source": [
    "[m,F,z_strich_korr]"
   ]
  },
  {
   "cell_type": "markdown",
   "id": "55a19f00",
   "metadata": {},
   "source": [
    "savefig(gauß1, \"../../media/B3.1/gauss1.pdf\");"
   ]
  },
  {
   "cell_type": "markdown",
   "id": "30c6a441",
   "metadata": {},
   "source": [
    "Sample 6, 600V, 45min, ΔT = 5s, binning = 8:"
   ]
  },
  {
   "cell_type": "code",
   "execution_count": null,
   "id": "a291b9f9",
   "metadata": {},
   "outputs": [],
   "source": [
    "# Messdaten mit ΔT = 5s, binning = 8\n",
    "anzahl_6_600_2 = [0,0,0,0,0,0,0,0,0,0,0,0,0,0,0,0,0,0,0,0,0,2,9,28,70,103,129,104,59,22,8,3,2,0,0]\n",
    "\n",
    "# Schneide interessanten Bereich hereaus\n",
    "zerfälle_6_600_2 = 21:34\n",
    "anzahl_6_600_2 = anzahl_6_600_2[zerfälle_6_600_2]\n",
    "\n",
    "# Passende Gaußverteilung:\n",
    "z_strich = 12917/300 # Aus Kurzmessung\n",
    "z_strich_korr = sum(anzahl_6_600_1 .* zerfälle_6_600_1)/(45*60) # Diesmal aus 45 min Messung\n",
    "m = z_strich_korr * Δt / n\n",
    "F = sum(anzahl_6_600_2)\n",
    "G(x) = G(x, m, F)\n",
    "\n",
    "# Plot\n",
    "gauß2 = plot(bar(zerfälle_6_600_2.-1,anzahl_6_600_2,label=L\"\\mathrm{Messdaten}\"), legend=:none)\n",
    "plot!(G,color=:red,label=L\"\\mathrm{Gauß}\")\n",
    "xlabel!(L\"\\mathrm{Anzahl\\ der\\ Zerfälle\\ in\\ }5\\mathrm{\\,s}\")\n",
    "ylabel!(L\"\\mathrm{Anzahl\\ der\\ Messungen}\")"
   ]
  },
  {
   "cell_type": "code",
   "execution_count": null,
   "id": "33247222",
   "metadata": {},
   "outputs": [],
   "source": [
    "[m,F,z_strich_korr]"
   ]
  },
  {
   "cell_type": "markdown",
   "id": "02482379",
   "metadata": {},
   "source": [
    "savefig(gauß2, \"../../media/B3.1/gauss2.pdf\");"
   ]
  },
  {
   "cell_type": "markdown",
   "id": "4f0a5e88",
   "metadata": {},
   "source": [
    "Sample 6 + 7, 500V, 45min, ΔT = 5s, binning = 8:"
   ]
  },
  {
   "cell_type": "code",
   "execution_count": null,
   "id": "253e32ac",
   "metadata": {},
   "outputs": [],
   "source": [
    "# Messdaten mit ΔT = 5s, binning = 8\n",
    "anzahl_6und7_500_2 = [0,0,0,0,0,0,0,0,0,0,0,0,0,0,0,0,0,0,0,0,0,0,0,0,0,0,0,0,0,0,0,0,0,0,0,0,0,5,12,63,101,130,119,69,\n",
    "    29,7,4,0,0]\n",
    "\n",
    "# Schneide interessanten Bereich hereaus\n",
    "zerfälle_6und7_500_2 = 37:48\n",
    "anzahl_6und7_500_2 = anzahl_6und7_500_2[zerfälle_6und7_500_2]\n",
    "\n",
    "\n",
    "# Passende Gaußverteilung:\n",
    "z_strich = 20300/300 # Aus Kurzmessung\n",
    "z_strich_korr = sum(anzahl_6und7_500_1 .* zerfälle_6und7_500_1)/(45*60) # Diesmal aus 45 min Messung\n",
    "m = z_strich_korr * Δt / n\n",
    "F = sum(anzahl_6und7_500_2)\n",
    "G(x) = G(x, m, F)\n",
    "\n",
    "# Plot\n",
    "gauß3 = plot(bar(zerfälle_6und7_500_2.-1,anzahl_6und7_500_2,label=L\"\\mathrm{Messdaten}\"), legend=:none)\n",
    "plot!(G,color=:red,label=L\"\\mathrm{Gauß}\")\n",
    "xlabel!(L\"\\mathrm{Anzahl\\ der\\ Zerfälle\\ in\\ }5\\mathrm{\\,s}\")\n",
    "ylabel!(L\"\\mathrm{Anzahl\\ der\\ Messungen}\")"
   ]
  },
  {
   "cell_type": "code",
   "execution_count": null,
   "id": "c9118f5a",
   "metadata": {},
   "outputs": [],
   "source": [
    "[m,F,z_strich_korr]"
   ]
  },
  {
   "cell_type": "markdown",
   "id": "5dc0aece",
   "metadata": {},
   "source": [
    "savefig(gauß3, \"../../media/B3.1/gauss3.pdf\");"
   ]
  },
  {
   "cell_type": "code",
   "execution_count": null,
   "id": "e74f6a54",
   "metadata": {},
   "outputs": [],
   "source": [
    "G(x) = G(x, m, F)\n",
    "m = 1\n",
    "plot(G, xaxis=[-1,15], label=\"m=$m\")\n",
    "m=2\n",
    "plot!(G, label=\"m=$m\")\n",
    "m=3\n",
    "plot!(G, label=\"m=$m\")\n",
    "m=4\n",
    "plot!(G, label=\"m=$m\")\n",
    "m=5\n",
    "plot!(G, label=\"m=$m\")\n",
    "m=6\n",
    "plot!(G, label=\"m=$m\")\n",
    "m=7\n",
    "plot!(G, label=\"m=$m\")\n",
    "m=8\n",
    "plot!(G, label=\"m=$m\")\n",
    "m=9\n",
    "plot!(G, label=\"m=$m\")\n",
    "m=10\n",
    "plot!(G, label=\"m=$m\")"
   ]
  },
  {
   "cell_type": "markdown",
   "id": "394558d2",
   "metadata": {},
   "source": [
    "## 3: Intervall-Verteilung"
   ]
  },
  {
   "cell_type": "markdown",
   "id": "6c795cff",
   "metadata": {},
   "source": [
    "##### Plotten der Messwerte"
   ]
  },
  {
   "cell_type": "code",
   "execution_count": null,
   "id": "a0b4ccb1",
   "metadata": {},
   "outputs": [],
   "source": [
    "interval0 = CSV.read(\"sample_6/500V_45min/interval_0.001_1.csv\", DataFrame)\n",
    "interval1 = CSV.read(\"sample_6/500V_45min/interval_0.001_2.csv\", DataFrame)\n",
    "interval2 = CSV.read(\"sample_6/500V_45min/interval_0.001_3.csv\", DataFrame);"
   ]
  },
  {
   "cell_type": "code",
   "execution_count": null,
   "id": "b62f133a",
   "metadata": {},
   "outputs": [],
   "source": [
    "# Sample 6, 500V, 45min\n",
    "interval = bar(interval0[1:200, :intervall], interval0[1:200, :count], alpha=0.5, label=L\"n = 0\")\n",
    "bar!(interval1[1:200, :intervall], interval1[1:200, :count], alpha=0.5, label=L\"n = 1\")\n",
    "bar!(interval2[1:200, :intervall], interval2[1:200, :count], alpha=0.5, label=L\"n = 2\")\n",
    "xlabel!(L\"\\mathrm{Zeitdifferenz\\ } [\\mathrm{ms}]\")\n",
    "ylabel!(L\"\\mathrm{Anzahl\\ der\\ Messungen}\")"
   ]
  },
  {
   "cell_type": "markdown",
   "id": "c7c33d5b-5199-45ce-94e1-ef045d5ec775",
   "metadata": {},
   "source": [
    "savefig(interval, \"../../media/B3.1/interval.pdf\");"
   ]
  },
  {
   "cell_type": "markdown",
   "id": "9840d35c",
   "metadata": {},
   "source": [
    "##### Fitten für n=0\n",
    "- Alle Messwerte im Bereich t $\\in$ [0,totzeit] abschneiden und den Rest fitten"
   ]
  },
  {
   "cell_type": "code",
   "execution_count": null,
   "id": "cf41a575-89ca-4113-9ac8-e1a8f048357d",
   "metadata": {},
   "outputs": [],
   "source": [
    "totzeitIndex = 11\n",
    "modelFunction(t, a_get) = 1000*2700 * a_get[1]^2 * exp.(- a_get[1] * t) # a = fit-parameter\n",
    "a0 = [0.043]\n",
    "fit = curve_fit(modelFunction, interval0[(totzeitIndex+1):100, :intervall], interval0[(totzeitIndex+1):100, :count], a0)\n",
    "a_fit = fit.param[1]"
   ]
  },
  {
   "cell_type": "code",
   "execution_count": null,
   "id": "00c324db-3c32-4ba3-aa64-7c6c32fbd367",
   "metadata": {},
   "outputs": [],
   "source": [
    "Δa_fit = sqrt(estimate_covar(fit)[1])"
   ]
  },
  {
   "cell_type": "code",
   "execution_count": null,
   "id": "20617784-f421-4cec-8c13-aea76c8e0790",
   "metadata": {},
   "outputs": [],
   "source": [
    "a_strich = 11044/300 * 10^(-3) # ms^-1 Gemessene Zählrate aus Kurzzeitmessung (in ms^(-1), weil a_fit auch in ms^(-1) ist)\n",
    "a_strich_korr = sum(anzahl_6_500_1 .* zerfälle_6_500_1)/(45*60) * 10^(-3) # Diesmal aus Langzeitmessung\n",
    "τ = 1/a_strich - 1/a_fit # ms\n",
    "τ_korr = 1/a_strich_korr - 1/a_fit # ms"
   ]
  },
  {
   "cell_type": "code",
   "execution_count": null,
   "id": "22f1f42f-6b64-4870-929e-ccae8382db66",
   "metadata": {},
   "outputs": [],
   "source": [
    "Δτ = Δa_fit/a_fit^2"
   ]
  },
  {
   "cell_type": "code",
   "execution_count": null,
   "id": "2e03cc1c-47cb-48fd-bcd5-1de022ab33ec",
   "metadata": {},
   "outputs": [],
   "source": [
    "a_fit"
   ]
  },
  {
   "cell_type": "code",
   "execution_count": null,
   "id": "7abf324e-2720-4fee-872d-6d1a873b1b2a",
   "metadata": {},
   "outputs": [],
   "source": [
    "I(t) = modelFunction(t, [a_fit])\n",
    "\n",
    "# Plot\n",
    "intervalFit = bar(interval0[1:totzeitIndex, :intervall], interval0[1:totzeitIndex, :count],\n",
    "    color=:red, alpha=0.3, label=L\"\\mathrm{Für\\ Fit\\ ausgeschlossene\\ Messwerte}\", title=\"\", legend=:topright)\n",
    "bar!(interval0[(totzeitIndex+1):100, :intervall],\n",
    "    interval0[(totzeitIndex+1):100, :count], color=:blue, alpha=0.5, label=L\"\\mathrm{Für\\ Fit\\ betrachtete\\ Messwerte}\", title=\"\")\n",
    "\n",
    "rounded_a = rounded_string(a_fit*1000)\n",
    "plot!(totzeitIndex:100,I,label=LaTeXString(\"\\$\\\\mathrm{Theoretische\\\\ Intervallfunktion\\\\ mit\\\\ } a = $rounded_a \\\\mathrm{\\\\,s^{-1}}\\$\"), color=:red)\n",
    "\n",
    "xlabel!(L\"\\mathrm{Zeitdifferenz\\ } [\\mathrm{ms}]\")\n",
    "ylabel!(L\"\\mathrm{Anzahl\\ der\\ Messungen}\")"
   ]
  },
  {
   "cell_type": "markdown",
   "id": "f6c5c70f-b0d2-4723-91d0-582ebc5e4dbd",
   "metadata": {},
   "source": [
    "savefig(intervalFit, \"../../media/B3.1/intervalFit.pdf\");"
   ]
  },
  {
   "cell_type": "markdown",
   "id": "a0df5628",
   "metadata": {},
   "source": [
    "## 4: Totzeit"
   ]
  },
  {
   "cell_type": "markdown",
   "id": "12464dd7-2609-45a0-b6c9-7525b23f9f46",
   "metadata": {},
   "source": [
    "### Aus Intervallverteilung"
   ]
  },
  {
   "cell_type": "markdown",
   "id": "2082d785",
   "metadata": {},
   "source": [
    "$$a = a^\\prime / (1 - a^\\prime * \\tau)$$\n",
    "$$\\Leftrightarrow \\tau = 1/a^\\prime - 1/a$$"
   ]
  },
  {
   "cell_type": "markdown",
   "id": "6ccc0f53-ef03-4f2b-85cf-50ef080fdd9d",
   "metadata": {},
   "source": [
    "Benötigt $a$ aus der Intervallverteilung.\n",
    "Falls $a$ nicht schon definiert ist, wird es hier definiert:"
   ]
  },
  {
   "cell_type": "code",
   "execution_count": null,
   "id": "729f2101-f04d-4277-b58b-2f671a872dea",
   "metadata": {},
   "outputs": [],
   "source": [
    "if ! isdefined(Main, :a)\n",
    "    a = 0.043\n",
    "end"
   ]
  },
  {
   "cell_type": "code",
   "execution_count": null,
   "id": "e55d47c7",
   "metadata": {
    "scrolled": true
   },
   "outputs": [],
   "source": [
    "a_strich = 11044/300 * 10^(-3) # ms Gemessene Zählrate aus Kurzzeitmessung\n",
    "a_strich_korr = sum(anzahl_6_500_1 .* zerfälle_6_500_1)/(45*60) * 10^(-3) # Diesmal aus Langzeitmessung\n",
    "tau = 1/a_strich - 1/a # ms\n",
    "tau_korr = 1/a_strich_korr - 1/a # ms"
   ]
  },
  {
   "cell_type": "markdown",
   "id": "b09409ec-497d-4c77-ae6d-f02ec9b37800",
   "metadata": {},
   "source": [
    "#### Aus kurzen Messungen"
   ]
  },
  {
   "cell_type": "code",
   "execution_count": null,
   "id": "3e5b2260-ae65-48be-aa9a-7b439b4748ec",
   "metadata": {},
   "outputs": [],
   "source": [
    "short_measures = CSV.read(\"short_measurements.csv\", DataFrame)\n",
    "short_measures.rates = short_measures.count ./ short_measures.seconds\n",
    "short_measures.rate_errors = sqrt.(short_measures.count)./short_measures.seconds\n",
    "\n",
    "short_measures.rate_w_error = measurement.(short_measures.rates, short_measures.rate_errors)\n",
    "short_measures"
   ]
  },
  {
   "cell_type": "code",
   "execution_count": null,
   "id": "1d99436d-c4a2-4eec-a150-27eaf8f37838",
   "metadata": {},
   "outputs": [],
   "source": [
    "function totzeit_in_milliseconds(data, voltage)\n",
    "    filtered_voltage = short_measures[short_measures.voltage .== voltage, :]\n",
    "    \n",
    "    n6 = filtered_voltage[filtered_voltage.sample_name .== \"sample_6\", :rate_w_error][1]\n",
    "    n7 = filtered_voltage[filtered_voltage.sample_name .== \"sample_7\", :rate_w_error][1]\n",
    "    n67 = filtered_voltage[filtered_voltage.sample_name .== \"sample_6_7\", :rate_w_error][1]\n",
    "    n0 = filtered_voltage[filtered_voltage.sample_name .== \"no_sample\", :rate_w_error][1]\n",
    "    \n",
    "    A = n0*n67*n7-n6*n67*n7+n0*n67*n6-n0*n6*n7\n",
    "    B = -2*n67*n0+2*n6*n7\n",
    "    C = n67-n6+n0-n7\n",
    "\n",
    "    t1 = (-B+sqrt(B^2 - 4*A*C))/(2*A) * 1000\n",
    "    t2 = (-B-sqrt(B^2 - 4*A*C))/(2*A) * 1000\n",
    "\n",
    "    return t1, t2\n",
    "end"
   ]
  },
  {
   "cell_type": "markdown",
   "id": "5690dc5a-27b2-4918-850f-2f665be0b595",
   "metadata": {},
   "source": [
    "Ermittle realistische Totzeiten"
   ]
  },
  {
   "cell_type": "code",
   "execution_count": null,
   "id": "64f60453-ff64-4000-b59d-6d602e963b7d",
   "metadata": {},
   "outputs": [],
   "source": [
    "tau_1 = totzeit_in_milliseconds(short_measures, 500)[1]\n",
    "tau_2 = totzeit_in_milliseconds(short_measures, 550)[1]\n",
    "tau_3 = totzeit_in_milliseconds(short_measures, 600)[1];"
   ]
  },
  {
   "cell_type": "markdown",
   "id": "8d7ff3bd-38fd-4de3-a761-7d66321b4a61",
   "metadata": {},
   "source": [
    "Stelle alle Totzeiten als $\\LaTeX$-Tabelle dar"
   ]
  },
  {
   "cell_type": "code",
   "execution_count": null,
   "id": "c3a4fc6a-1349-4c7a-8061-2479f071443a",
   "metadata": {},
   "outputs": [],
   "source": [
    "digits = 2\n",
    "\n",
    "for voltage in (500, 550, 600)\n",
    "    print(\"\\$$voltage\\$\")\n",
    "    for t in totzeit_in_milliseconds(short_measures, voltage)\n",
    "        value = round(Measurements.value(t), digits=digits)\n",
    "        uncert = round(Measurements.uncertainty(t), digits=digits)\n",
    "        print(\" & \\$$value \\\\pm $uncert\\$\")\n",
    "        perc = round(Integer, uncert / value * 100)\n",
    "        print(\" \\$(\\\\pm $perc \\\\,\\\\%)\\$\")\n",
    "    end\n",
    "    println(\" \\\\\\\\\")\n",
    "end"
   ]
  },
  {
   "cell_type": "markdown",
   "id": "055ba77c-3cfd-4b41-bb60-cc96126327fc",
   "metadata": {},
   "source": [
    "## 5: Aufgaben zum  $\\chi^2$–Test\n",
    "Benötigt Totzeit."
   ]
  },
  {
   "cell_type": "markdown",
   "id": "4f5078f1-08d8-460c-9cc4-d3f7f2014b40",
   "metadata": {},
   "source": [
    "Daten einlesen"
   ]
  },
  {
   "cell_type": "code",
   "execution_count": null,
   "id": "182d27e9-514c-4dc2-91e1-f03cf38d6c3f",
   "metadata": {},
   "outputs": [],
   "source": [
    "data = CSV.File(\"sample_6_7/500V_45min/divide_10.csv\")\n",
    "scatter(0:length(data), data.Zerfälle_in_10_sec)"
   ]
  },
  {
   "cell_type": "code",
   "execution_count": null,
   "id": "4338491c-a62f-4b14-b4eb-714ca75f10f8",
   "metadata": {},
   "outputs": [],
   "source": [
    "pos_min = 0\n",
    "pos_max = 50\n",
    "x_data = pos_min:pos_max\n",
    "decays = data.Zerfälle_in_10_sec[x_data.+1]\n",
    "\n",
    "avg_decays = mean(decays)"
   ]
  },
  {
   "cell_type": "code",
   "execution_count": null,
   "id": "37c2f4f9-2082-4a1b-82f5-a78914d18d9f",
   "metadata": {},
   "outputs": [],
   "source": [
    "std(decays)"
   ]
  },
  {
   "cell_type": "code",
   "execution_count": null,
   "id": "6ee94941-7faa-4b89-9bbe-d788e0b4ad12",
   "metadata": {},
   "outputs": [],
   "source": [
    "avg_decays"
   ]
  },
  {
   "cell_type": "code",
   "execution_count": null,
   "id": "5da918d1-ee50-42ed-940a-31b049d300ac",
   "metadata": {},
   "outputs": [],
   "source": [
    "avg_decays_corrected = avg_decays / (1 - a_strich*tau)"
   ]
  },
  {
   "cell_type": "code",
   "execution_count": null,
   "id": "18eb53e3-3a0d-4c4a-a628-c0ac08c0678c",
   "metadata": {},
   "outputs": [],
   "source": [
    "avg_decays_corrected/avg_decays"
   ]
  },
  {
   "cell_type": "code",
   "execution_count": null,
   "id": "6f9ddbfa-4fb9-4d47-9039-2624c35fd48e",
   "metadata": {},
   "outputs": [],
   "source": [
    "decays_corrected = decays ./ (1 .- a_strich*tau);"
   ]
  },
  {
   "cell_type": "markdown",
   "id": "013c5af6-4fae-4a0b-85b5-f3fb65afc655",
   "metadata": {},
   "source": [
    "### 1. Hypothesen\n",
    "Zeigen Sie zeichnerisch, was die Hypothesen a, b und c besagen.\n",
    "\n",
    "- a: Die Präparatstärke ist konstant im betrachteten Zeitraum und gleicht dem Mittelwert der 51 Messwerte.\n",
    "- b: Die Präparatstärke ist konstant im betrachteten Zeitraum und gleicht dem Mittelwert der 51 Messwerte minus 10%.\n",
    "- c: Die Präparatstärke nimmt im betrachteten Zeitraum linear mit der Zeit ab (als erste Näherung eines exponentiellen Abfalls). Die Anfangszählrate ist der Mittelwert, und der Abfall von einer Messung zur anderen sei 1."
   ]
  },
  {
   "cell_type": "markdown",
   "id": "79f8cc3d-c3f9-487a-94e0-6d265ad1a581",
   "metadata": {},
   "source": [
    "Hypothese $H_1$: \"Die Präparatstärke ist konstant im betrachteten Zeitraum und gleicht dem Mittelwert der $51$ Messwerte.\"\n",
    "\n",
    "Diese Hypothese besagt, jeder erwartete Zählmenge $n_1(i)$ sei gleich dem Mittelwert der $51$ Messungen $n_i$.\n",
    "\n",
    "$$\n",
    "\t\\bar x = \\bar n\n",
    "$$\n",
    "$$\n",
    "    n_1(i) = \\frac{1}{51} \\sum_{i=1}^{51} n_i\n",
    "$$\n",
    "$$\n",
    "\t\\chi^2_1 = \\sum_i \\frac{(n_i-\\bar n)^2}{\\bar n}\n",
    "$$"
   ]
  },
  {
   "cell_type": "markdown",
   "id": "8d31b83d-fe9a-4bfb-9047-219f02238830",
   "metadata": {},
   "source": [
    "Hypothese $H_2$: \"Die Präparatstärke ist konstant im betrachteten Zeitraum und gleicht dem Mittelwert der $51$ Messwerte minus $10\\%$.\"\n",
    "\n",
    "Dies bedeutet, dass die erwarteten Zählungen $n_2(i)$ um $10\\%$ kleiner als die Zählungen nach $H_1$ sein müssen.\n",
    "\n",
    "$$\n",
    "    n_2(i) = \\frac{9}{10}\\cdot n_1(i)\n",
    "$$\n",
    "$$\n",
    "\t\\chi^2_2 = \\sum_i \\frac{(n_i-0.9\\,\\bar n)^2}{0.9\\,\\bar n}\n",
    "$$"
   ]
  },
  {
   "cell_type": "markdown",
   "id": "1d5720b1-75e1-4082-a820-ab586560bb0c",
   "metadata": {},
   "source": [
    "Hypothese $H_3$: \"Die Präparatstärke nimmt im betrachteten Zeitraum linear mit der Zeit ab (als erste Näherung eines exponentiellen Abfalls). Die Anfangszählrate ist der Mittelwert, und der Abfall von einer Messung zur anderen sei $1$.\"\n",
    "\n",
    "Die erwarteten Ereignisse starten demnach bei $n_1(0)$ und fallen dann linear mit einer Steigung von $1$ ab.\n",
    "\n",
    "$$\n",
    "    n_3(i) = n_1(0) - i\n",
    "$$\n",
    "$$\n",
    "\t\\chi^2_3 = \\sum_i \\frac{(n_i-(n - i))^2}{(n - i)}\n",
    "$$"
   ]
  },
  {
   "cell_type": "code",
   "execution_count": null,
   "id": "02454b1b-0e86-4884-bc4f-d4e15a0f6361",
   "metadata": {},
   "outputs": [],
   "source": [
    "function plot_hypotheses(x_data, decays, title; legend_pos)\n",
    "    scatter(x_data, decays, label=L\"\\mathrm{Messwerte}\", legend=legend_pos, yrange=[580, 830])\n",
    "    \n",
    "    title!(title)\n",
    "    xlabel!(L\"\\mathrm{Zeitintervalle je}\\ 10\\mathrm{\\,s}\")\n",
    "    ylabel!(L\"\\mathrm{Ereignisse}\\ \\left[(10\\,\\mathrm{s})^{-1}\\right]\")\n",
    "    \n",
    "    h1_results = fill(mean(decays), length(x_data))\n",
    "    \n",
    "    plot!(\n",
    "        x_data,\n",
    "        h1_results,\n",
    "        label=L\"H_1\",\n",
    "        color=:red4,\n",
    "        lw=2\n",
    "    )\n",
    "    \n",
    "    plot!(\n",
    "        x_data,\n",
    "        0.9 .* h1_results,\n",
    "        label=L\"H_2\",\n",
    "        color=:darkgreen,\n",
    "        lw=2\n",
    "    )\n",
    "    \n",
    "    plot!(\n",
    "        x_data,\n",
    "        h1_results .- x_data,\n",
    "        label=L\"H_3\",\n",
    "        color=:navy,\n",
    "        lw=2\n",
    "    )\n",
    "end"
   ]
  },
  {
   "cell_type": "code",
   "execution_count": null,
   "id": "180b675b-0020-44a5-a235-f1d7bdb3f758",
   "metadata": {},
   "outputs": [],
   "source": [
    "plot_hypotheses(x_data, decays, L\"\\mathrm{unkorrigierte\\ Messwerte\\ und\\ Hypothesen\\ } H_i\", legend_pos=:topright)"
   ]
  },
  {
   "cell_type": "markdown",
   "id": "76feecc3-96b4-4af1-955c-b38992700686",
   "metadata": {},
   "source": [
    "savefig(\"../../media/B3.1/Hypothesen_plot.pdf\");"
   ]
  },
  {
   "cell_type": "code",
   "execution_count": null,
   "id": "7bf4affb-26f1-4e5b-a8dd-e86f3b608806",
   "metadata": {},
   "outputs": [],
   "source": [
    "plot_hypotheses(x_data, decays_corrected, L\"\\mathrm{totzeitkorrigierte\\ Messwerte\\ und\\ Hypothesen\\ } H_i\"; legend_pos=:bottomright)"
   ]
  },
  {
   "cell_type": "markdown",
   "id": "5f73a9ce-5f07-4832-89b1-ed9e9e1fa6a0",
   "metadata": {},
   "source": [
    "savefig(\"../../media/B3.1/Hypothesen_plot_corr.pdf\");"
   ]
  },
  {
   "cell_type": "markdown",
   "id": "16236efe-0a30-417e-9110-3e8939bb6ed2",
   "metadata": {},
   "source": [
    "Man Erkennt, dass $H_1$ die Messwerte am besten beschreibt.\n",
    "\n",
    "### 2. Hypothesentest\n",
    "Nun werden die drei Hypothesen $H_i$ mithilfe des $\\chi^2$–Tests geprüft. Hierzu werden $51$ Messwerte aus der $45\\,\\mathrm{min}$-Messung beider Proben gewählt, deren Zählungen über $10\\,\\mathrm s$ gemittelt werden. Dies wird sowohl für die nicht-totzeitkorrigierten als auch für die totzeitkorrigierten Daten durchgeführt.\n",
    "\n",
    "Durch die Bildung des Mittelwertes gibt es noch $50$ statistische Freiheitsgrade. Dadurch können die erlaubten Grenzen für $\\chi^2$ für ein System mit $50$ Freiheitsgraden und einer Signifikanz von $5\\%$ verwendet werden $[6]$."
   ]
  },
  {
   "cell_type": "markdown",
   "id": "a4d0f3fd-6130-455d-81a3-145d40286c74",
   "metadata": {},
   "source": [
    "$$\n",
    "\t\\chi^2_\\mathrm{min} = 32.357 \\\\\n",
    "$$\n",
    "$$\n",
    "\t\\chi^2_\\mathrm{max} = 71.420\n",
    "$$"
   ]
  },
  {
   "cell_type": "markdown",
   "id": "62069522-c9c8-4a8b-9a0a-8fb0051c28c0",
   "metadata": {},
   "source": [
    "#### unkorrigiert\n",
    "$$\n",
    "    \\chi^2_1 = \\sum_i \\frac{(x_i-\\bar x)^2}{\\bar x}\n",
    "$$\n",
    "\n",
    "$$\n",
    "\t\\chi^2_2 = \\sum_i \\frac{(x_i-0.9\\,\\bar x)^2}{0.9\\,\\bar x}\n",
    "$$\n",
    "\n",
    "$$\n",
    "\t\\chi^2_3 = \\sum_i \\frac{(x_i-(\\bar{n} - i))^2}{(\\bar{n} - i)}\n",
    "$$"
   ]
  },
  {
   "cell_type": "code",
   "execution_count": null,
   "id": "5cda3966-e2fa-413d-9d8d-b3c4910f0a08",
   "metadata": {},
   "outputs": [],
   "source": [
    "chi_squared_1 = sum((decays .- avg_decays).^2 ./ avg_decays)"
   ]
  },
  {
   "cell_type": "code",
   "execution_count": null,
   "id": "ee846eaf-70fa-496a-a2ee-3964b189f7bb",
   "metadata": {},
   "outputs": [],
   "source": [
    "(1 - chi_squared_1 / 32.357)*100"
   ]
  },
  {
   "cell_type": "code",
   "execution_count": null,
   "id": "31f099d3-5a01-49aa-b10c-bbd2c3ce35b9",
   "metadata": {},
   "outputs": [],
   "source": [
    "chi_squared_2 = sum((decays .- 0.9*avg_decays).^2 ./ (0.9*avg_decays))"
   ]
  },
  {
   "cell_type": "code",
   "execution_count": null,
   "id": "7ed4e462-00d0-4321-9339-d2385968a431",
   "metadata": {},
   "outputs": [],
   "source": [
    "chi_squared_2 / 71.420"
   ]
  },
  {
   "cell_type": "code",
   "execution_count": null,
   "id": "8c65aa49-d59a-4e30-80ed-1d1f751eb188",
   "metadata": {},
   "outputs": [],
   "source": [
    "chi_squared_3 = sum((decays .- (avg_decays .- x_data)).^2 ./ (avg_decays .- x_data))"
   ]
  },
  {
   "cell_type": "code",
   "execution_count": null,
   "id": "53be721e-0450-409e-b823-f97b204bf647",
   "metadata": {},
   "outputs": [],
   "source": [
    "chi_squared_3 / 71.420"
   ]
  },
  {
   "cell_type": "markdown",
   "id": "7c7a2443-b6b8-4ea1-aad1-9f16fdd890c7",
   "metadata": {},
   "source": [
    "#### totzeitkorrigiert\n",
    "\n",
    "$$ \\chi^2_{i, \\mathrm{korr}} = \\frac{1}{1 - \\frac{m}{\\Delta t}\\tau} \\cdot \\chi^2_i$$"
   ]
  },
  {
   "cell_type": "code",
   "execution_count": null,
   "id": "c0628f8b-3be5-461c-9ec9-9e16762c2676",
   "metadata": {},
   "outputs": [],
   "source": [
    "chi_squared_1_corrected = 1 / (1-a_strich*tau) * chi_squared_1"
   ]
  },
  {
   "cell_type": "code",
   "execution_count": null,
   "id": "1e499308-87c6-453d-9bce-7fd14eab5a95",
   "metadata": {},
   "outputs": [],
   "source": [
    "(1 - chi_squared_1_corrected / 32.357)*100"
   ]
  },
  {
   "cell_type": "code",
   "execution_count": null,
   "id": "5a677d20-56d7-49e6-adb5-2ab8b716cb76",
   "metadata": {},
   "outputs": [],
   "source": [
    "chi_squared_2_corrected = 1 / (1-a_strich*tau) * chi_squared_2"
   ]
  },
  {
   "cell_type": "code",
   "execution_count": null,
   "id": "1254de62-ec31-4681-a1f3-d134d0f2b4fa",
   "metadata": {},
   "outputs": [],
   "source": [
    "chi_squared_2_corrected / 71.420"
   ]
  },
  {
   "cell_type": "code",
   "execution_count": null,
   "id": "6a32b692-afbd-44c7-bd4c-1dd6d1cd6e48",
   "metadata": {},
   "outputs": [],
   "source": [
    "chi_squared_3_corrected = 1 / (1-a_strich*tau) * chi_squared_3"
   ]
  },
  {
   "cell_type": "code",
   "execution_count": null,
   "id": "de74b9c4-41da-4b42-b845-4772929a792e",
   "metadata": {},
   "outputs": [],
   "source": [
    "chi_squared_3_corrected / 71.420"
   ]
  },
  {
   "cell_type": "markdown",
   "id": "85b375c9-575b-4f5f-93aa-ea17c956fdb3",
   "metadata": {},
   "source": [
    "### 3. Halbwertszeit\n",
    "Welche Halbwertszeit ergibt sich aus der Hypothese c, wenn Sie einen zeitlichen Abstand der Messungen von 10 Sekunden annehmen als Näherung eines exponentiellen Zerfalls?"
   ]
  },
  {
   "cell_type": "markdown",
   "id": "6908a43e-2a3c-42c0-ba53-46e8df4339ef",
   "metadata": {},
   "source": [
    "Nun soll nach Hypothese $H_3$ die Halbwertszeit $T_{1/2}$ der Proben bestimmt werden. Hierzu wird der exponentielle Zerfall durch eine lineare Kurve beschrieben. Es wird erwartet, dass diese Halbwertszeit deutlich geringer als die ca. $30\\,\\mathrm{yr}$ der Probe ist.\n",
    "\n",
    "Dabei wird davon ausgegangen, dass innerhalb der Messdauer $\\Delta t=10\\,\\mathrm{s}$ der Wert $N_0$ um $1$ sinkt. Weiterhin wird die Halbwertszeit nach Gleichung \\ref{???} bestimmt. Nach Hypothese $H_3$ ist $N(0)=\\bar n$ der Mittelwert der Zählraten."
   ]
  },
  {
   "cell_type": "code",
   "execution_count": null,
   "id": "4dd5abda-563c-4211-aca0-de7457795144",
   "metadata": {},
   "outputs": [],
   "source": [
    "T_12 = Integer(round(10 * log(2) / log(avg_decays/(avg_decays-1)))) # seconds\n",
    "println(T_12, \" seconds\")\n",
    "\n",
    "T_12_str = string(\"\\$T_{1/2}(m^\\\\prime)=\", Integer(round(T_12/3600)), \"\\\\,\\\\mathrm{h}\\\\,\", Integer(round(T_12%60)), \"\\\\,\\\\mathrm{min}\\$\",)\n",
    "println(T_12_str)\n",
    "latexstring(T_12_str)"
   ]
  },
  {
   "cell_type": "code",
   "execution_count": null,
   "id": "8ff52b87-d1ec-4d01-ac02-002104f07b42",
   "metadata": {},
   "outputs": [],
   "source": [
    "T_12_corr = Integer(round(10 * log(2) / log(avg_decays_corrected/(avg_decays_corrected-1)))) # seconds\n",
    "println(T_12_corr, \" seconds\")\n",
    "\n",
    "T_12_corr_str = string(\"\\$T_{1/2}(m)=\", Integer(round(T_12_corr/3600)), \"\\\\,\\\\mathrm{h}\\\\,\", Integer(round(T_12_corr%60)), \"\\\\,\\\\mathrm{min}\\$\",)\n",
    "println(T_12_corr_str)\n",
    "latexstring(T_12_corr_str)"
   ]
  }
 ],
 "metadata": {
  "kernelspec": {
   "display_name": "Julia 1.9.2",
   "language": "julia",
   "name": "julia-1.9"
  },
  "language_info": {
   "file_extension": ".jl",
   "mimetype": "application/julia",
   "name": "julia",
   "version": "1.9.2"
  }
 },
 "nbformat": 4,
 "nbformat_minor": 5
}
