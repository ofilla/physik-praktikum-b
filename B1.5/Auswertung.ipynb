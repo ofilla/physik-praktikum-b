{
 "cells": [
  {
   "cell_type": "code",
   "execution_count": null,
   "id": "768829b4-af8e-47fb-9952-d27335c0411d",
   "metadata": {},
   "outputs": [],
   "source": [
    "using Plots\n",
    "using LaTeXStrings"
   ]
  },
  {
   "cell_type": "code",
   "execution_count": null,
   "id": "b14984f8-2b77-4d6f-bae1-538f12baa156",
   "metadata": {},
   "outputs": [],
   "source": [
    "# Messwerte und Fehler\n",
    "x = [0, 1, 2, 3]\n",
    "B = [4.6705, 4.698, 4.662, 4.639]\n",
    "errors = [0.0018, 0.0024, 0.0015, 0.003]"
   ]
  },
  {
   "cell_type": "code",
   "execution_count": null,
   "id": "7c834d9b-ff7e-4d8b-ba0a-2eac8b1f6a4d",
   "metadata": {},
   "outputs": [],
   "source": [
    "# Sinuskurve anpassen (per Hand und Augenschein)\n",
    "# Annahmen: Amplitude ca. 0.03 mT, Mittelwert ca. 4.67 mT\n",
    "x_fit = range(0, stop=3, length=100)\n",
    "offset = 4.667\n",
    "factor = 0.0308\n",
    "angle_offset = 0.084\n",
    "half_angle_offset = angle_offset/2\n",
    "y_fit = offset .+ factor .* sin.((x_fit .+ angle_offset) .* π ./ 2);"
   ]
  },
  {
   "cell_type": "code",
   "execution_count": null,
   "id": "d9681ebe-1366-4468-8c97-9abf783c6948",
   "metadata": {},
   "outputs": [],
   "source": [
    "# Plot der Messwerte mit Fehlerbalken\n",
    "plot(x, B, yerr=errors, seriestype=:scatter,\n",
    "    label=L\"\\mathrm{Messwerte}\", xlabel=L\"\\mathrm{Position}\", ylabel=L\"$B$ $[\\mathrm{mT}]$\",\n",
    "    xticks=(0:4, [L\"\\mathrm{vorne}\", L\"\\mathrm{rechts}\", L\"\\mathrm{hinten}\", L\"\\mathrm{links}\"]),\n",
    "    legend=:topright)\n",
    "\n",
    "# Sinuskurve hinzufügen\n",
    "plot!(x_fit, y_fit, label=L\"Fit\")"
   ]
  },
  {
   "cell_type": "code",
   "execution_count": null,
   "id": "f62f27a4-ac7d-4567-9286-c50e1f64d26b",
   "metadata": {},
   "outputs": [],
   "source": [
    "# savefig(\"../media/B1.5/Erdmagnetfeld_Fit.pdf\");"
   ]
  }
 ],
 "metadata": {
  "kernelspec": {
   "display_name": "Julia 1.9.2",
   "language": "julia",
   "name": "julia-1.9"
  },
  "language_info": {
   "file_extension": ".jl",
   "mimetype": "application/julia",
   "name": "julia",
   "version": "1.9.2"
  }
 },
 "nbformat": 4,
 "nbformat_minor": 5
}
